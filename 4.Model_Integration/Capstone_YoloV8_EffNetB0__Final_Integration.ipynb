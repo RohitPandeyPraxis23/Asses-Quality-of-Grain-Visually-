{
 "cells": [
  {
   "cell_type": "code",
   "execution_count": 2,
   "id": "14d2f7ee",
   "metadata": {},
   "outputs": [],
   "source": [
    "from ultralytics import YOLO\n",
    "from PIL import Image\n",
    "from numpy import asarray\n",
    "import cv2\n",
    "import os\n",
    "import tensorflow\n",
    "import numpy as np\n",
    "import pandas as pd\n",
    "import tensorflow as tf\n",
    "from tensorflow.keras.models import load_model\n",
    "from tensorflow.keras.preprocessing.image import load_img, img_to_array"
   ]
  },
  {
   "cell_type": "code",
   "execution_count": null,
   "id": "155dcb46",
   "metadata": {},
   "outputs": [],
   "source": []
  },
  {
   "cell_type": "code",
   "execution_count": 3,
   "id": "c43b6833",
   "metadata": {},
   "outputs": [],
   "source": [
    "def crop_and_save_objects(image_path,model_path,obj_model_path):\n",
    "    \n",
    "    obj_model = YOLO(obj_model_path)\n",
    "    \n",
    "    results=obj_model.predict(source=image_path,save=True,save_crop=True,device='cpu')\n",
    "    for result in results:\n",
    "        boxes = result.boxes.xyxy\n",
    "    \n",
    "    np_arr = boxes.detach().cpu().numpy()\n",
    "\n",
    "    L=[]\n",
    "    \n",
    "    for i in np_arr:\n",
    "        L.append(i)\n",
    "    \n",
    "    for i in range(0,len(L)):\n",
    "        for j in range(0,len(L[i])): \n",
    "                L[i][j]=int(L[i][j])\n",
    "    \n",
    "    bounding_boxes=L\n",
    "    \n",
    "    # Load the model\n",
    "    model = tf.keras.models.load_model(model_path, compile=False)\n",
    "    model.compile(optimizer=tensorflow.optimizers.Adam(learning_rate=0.001), loss='binary_crossentropy', metrics=['accuracy'])\n",
    "\n",
    "    # Load the image\n",
    "    img = cv2.imread(image_path)\n",
    "\n",
    "    # Create a directory to store the cropped images\n",
    "    output_dir = f\"{os.path.splitext(image_path)[0]}_cropped\"\n",
    "    os.makedirs(output_dir, exist_ok=True)\n",
    "\n",
    "    # Create a DataFrame to store the purity summary for each object\n",
    "    summary_df = pd.DataFrame(columns=[\"Object\", \"Purity\"])\n",
    "\n",
    "    # Loop through each bounding box and crop the object within it\n",
    "    for i, bbox in enumerate(bounding_boxes):\n",
    "        # Extract the coordinates of the bounding box\n",
    "        x1, y1, x2, y2 = map(int, bbox)\n",
    "\n",
    "        # Crop the object within the bounding box\n",
    "        cropped_img = img[y1:y2, x1:x2]\n",
    "\n",
    "        # Resize the cropped image to 224x224\n",
    "        resized_img = cv2.resize(cropped_img, (224, 224))\n",
    "\n",
    "        # Convert the resized image to a NumPy array\n",
    "        img_array = np.asarray(resized_img)\n",
    "\n",
    "        # Normalize the pixel values to be in the range [0, 1]\n",
    "        img_array = img_array / 255.0\n",
    "\n",
    "        # Make the prediction using the model\n",
    "        pred = model.predict(np.expand_dims(img_array, axis=0))[0]\n",
    "\n",
    "        # Determine if the object is pure or impure based on the prediction\n",
    "        if pred > 0.5:\n",
    "            label = \"pure\"\n",
    "        else:\n",
    "            label = \"impure\"\n",
    "\n",
    "        # Save the cropped image as a NumPy array and label to the output directory with a unique name\n",
    "        output_path = os.path.join(output_dir, f\"object_{i}_{label}.npy\")\n",
    "        np.save(output_path, img_array)\n",
    "\n",
    "        # Add the purity label to the summary DataFrame\n",
    "        summary_df.loc[i] = [f\"object_{i}\", label]\n",
    "\n",
    "    # Create a table summarizing the purity of each cropped image\n",
    "    table_df = pd.pivot_table(summary_df, index=[\"Object\"], columns=[\"Purity\"], aggfunc=len, fill_value=0)\n",
    "    table_df.columns.name = None\n",
    "    table_df.index.name = None\n",
    "\n",
    "    # Print the summary table\n",
    "    #print(table_df)\n",
    "\n",
    "    # Calculate the sum of each class\n",
    "    impure_sum = summary_df[\"Purity\"].value_counts().get(\"impure\", 0)\n",
    "    pure_sum = summary_df[\"Purity\"].value_counts().get(\"pure\", 0)\n",
    "    total_sum = impure_sum + pure_sum\n",
    "    print(\"The Total number of Impure grains is \",impure_sum)\n",
    "    print(\"The Total number of Pure grains is \",pure_sum)\n",
    "    print(\"The Total number of Grains is \",total_sum)\n",
    "\n",
    "    # Return the sum of each class\n",
    "    #return impure_sum, pure_sum, total_sum\n"
   ]
  },
  {
   "cell_type": "code",
   "execution_count": 4,
   "id": "7155a257",
   "metadata": {},
   "outputs": [],
   "source": [
    "image_path = \"Worst.jpg\"\n",
    "obj_model_path=\"best.pt\"\n",
    "model_path='C:/Users/Rohit-L490/EffNetB0_tf.kr.app_tr70val20test10_nopretrain.h5'"
   ]
  },
  {
   "cell_type": "code",
   "execution_count": 7,
   "id": "8ff02697",
   "metadata": {},
   "outputs": [
    {
     "name": "stderr",
     "output_type": "stream",
     "text": [
      "Ultralytics YOLOv8.0.29  Python-3.9.13 torch-1.13.1+cpu CPU\n",
      "Model summary (fused): 168 layers, 3005843 parameters, 0 gradients, 8.1 GFLOPs\n",
      "\n",
      "image 1/1 C:\\Users\\Rohit-L490\\Worst.JPG: 640x640 17 Corns, 241.3ms\n",
      "Speed: 1.0ms pre-process, 241.3ms inference, 2.0ms postprocess per image at shape (1, 3, 640, 640)\n",
      "Results saved to \u001b[1mruns\\detect\\predict19\u001b[0m\n"
     ]
    },
    {
     "name": "stdout",
     "output_type": "stream",
     "text": [
      "1/1 [==============================] - 2s 2s/step\n",
      "1/1 [==============================] - 0s 70ms/step\n",
      "1/1 [==============================] - 0s 77ms/step\n",
      "1/1 [==============================] - 0s 82ms/step\n",
      "1/1 [==============================] - 0s 71ms/step\n",
      "1/1 [==============================] - 0s 73ms/step\n",
      "1/1 [==============================] - 0s 75ms/step\n",
      "1/1 [==============================] - 0s 78ms/step\n",
      "1/1 [==============================] - 0s 77ms/step\n",
      "1/1 [==============================] - 0s 76ms/step\n",
      "1/1 [==============================] - 0s 83ms/step\n",
      "1/1 [==============================] - 0s 70ms/step\n",
      "1/1 [==============================] - 0s 70ms/step\n",
      "1/1 [==============================] - 0s 80ms/step\n",
      "1/1 [==============================] - 0s 70ms/step\n",
      "1/1 [==============================] - 0s 82ms/step\n",
      "1/1 [==============================] - 0s 100ms/step\n",
      "The Total number of Impure grains is  17\n",
      "The Total number of Pure grains is  0\n",
      "The Total number of Grains is  17\n"
     ]
    }
   ],
   "source": [
    "%timeit\n",
    "crop_and_save_objects(image_path,model_path,obj_model_path)"
   ]
  },
  {
   "cell_type": "code",
   "execution_count": null,
   "id": "900692fc",
   "metadata": {},
   "outputs": [],
   "source": []
  },
  {
   "cell_type": "code",
   "execution_count": null,
   "id": "b4a79622",
   "metadata": {},
   "outputs": [],
   "source": []
  },
  {
   "cell_type": "code",
   "execution_count": null,
   "id": "eb96014a",
   "metadata": {},
   "outputs": [],
   "source": []
  },
  {
   "cell_type": "code",
   "execution_count": null,
   "id": "1bbf3422",
   "metadata": {},
   "outputs": [],
   "source": []
  },
  {
   "cell_type": "code",
   "execution_count": null,
   "id": "8cc6acb4",
   "metadata": {},
   "outputs": [],
   "source": []
  },
  {
   "cell_type": "code",
   "execution_count": null,
   "id": "80308313",
   "metadata": {},
   "outputs": [],
   "source": []
  },
  {
   "cell_type": "code",
   "execution_count": null,
   "id": "3a35e89e",
   "metadata": {},
   "outputs": [],
   "source": []
  }
 ],
 "metadata": {
  "kernelspec": {
   "display_name": "Python 3 (ipykernel)",
   "language": "python",
   "name": "python3"
  },
  "language_info": {
   "codemirror_mode": {
    "name": "ipython",
    "version": 3
   },
   "file_extension": ".py",
   "mimetype": "text/x-python",
   "name": "python",
   "nbconvert_exporter": "python",
   "pygments_lexer": "ipython3",
   "version": "3.9.13"
  }
 },
 "nbformat": 4,
 "nbformat_minor": 5
}

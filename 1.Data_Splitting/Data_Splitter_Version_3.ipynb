{
 "cells": [
  {
   "cell_type": "code",
   "execution_count": 1,
   "id": "46941348",
   "metadata": {},
   "outputs": [],
   "source": [
    "import os\n",
    "import random\n",
    "import shutil"
   ]
  },
  {
   "cell_type": "code",
   "execution_count": 3,
   "id": "03da8271",
   "metadata": {},
   "outputs": [],
   "source": [
    "# Set the path to the directory containing the pure and impure folders\n",
    "data_dir = \"C:/Users/Rohit-L490/Desktop/Corn_seed_Images/Capstone_by_Class_March_05_03_2023/\"\n",
    "\n",
    "# Set the path to the directory where you want to save the train, test, and val folders\n",
    "output_dir = \"C:/Users/Rohit-L490/Desktop/Corn_seed_Images/March5data\""
   ]
  },
  {
   "cell_type": "code",
   "execution_count": 5,
   "id": "4c66e212",
   "metadata": {},
   "outputs": [],
   "source": [
    "# Create train, test, and val directories\n",
    "train_dir = os.path.join(output_dir, \"train\")\n",
    "test_dir = os.path.join(output_dir, \"test\")\n",
    "val_dir = os.path.join(output_dir, \"val\")\n",
    "os.makedirs(train_dir, exist_ok=True)\n",
    "os.makedirs(test_dir, exist_ok=True)\n",
    "os.makedirs(val_dir, exist_ok=True)\n",
    "\n",
    "# Define the classes and subfolders and the ratio of data to be used for each set\n",
    "classes = [\"pure\", \"impure\"]\n",
    "subfolders = {\"pure\": [\"pureclass1\", \"pureclass2\"],\n",
    "\"impure\": [\"impureclass1\", \"impureclass2\", \"impureclass3\", \"impureclass4broken\", \"impureclass5discolor\", \"impureclass6silkcut\"]\n",
    "}\n",
    "\n",
    "ratio = {\"train\": 0.60, \"test\": 0.20, \"val\": 0.20}"
   ]
  },
  {
   "cell_type": "code",
   "execution_count": 6,
   "id": "6cddbe7c",
   "metadata": {},
   "outputs": [],
   "source": [
    "# Loop through each class and extract all images from all subfolders\n",
    "for c in classes:\n",
    "    images = []\n",
    "    for s in subfolders[c]:\n",
    "        subfolder_dir = os.path.join(data_dir, c, s)\n",
    "        subfolder_images = os.listdir(subfolder_dir)\n",
    "        images.extend([os.path.join(subfolder_dir, image) for image in subfolder_images])\n",
    "    for i in range(500):\n",
    "        random.shuffle(images) # shuffle the images 5 times\n",
    "    n = len(images)\n",
    "    train_split = int(ratio[\"train\"] * n)\n",
    "    test_split = int((ratio[\"train\"] + ratio[\"test\"]) * n)\n",
    "    for i, image in enumerate(images):\n",
    "        if i < train_split:\n",
    "            output_folder = os.path.join(train_dir, c)\n",
    "        elif i < test_split:\n",
    "            output_folder = os.path.join(test_dir, c)\n",
    "        else:\n",
    "            output_folder = os.path.join(val_dir, c)\n",
    "        os.makedirs(output_folder, exist_ok=True)\n",
    "        shutil.copy(image, os.path.join(output_folder, os.path.basename(image)))"
   ]
  },
  {
   "cell_type": "code",
   "execution_count": null,
   "id": "c4f427f2",
   "metadata": {},
   "outputs": [],
   "source": []
  },
  {
   "cell_type": "code",
   "execution_count": null,
   "id": "58b465e2",
   "metadata": {},
   "outputs": [],
   "source": []
  }
 ],
 "metadata": {
  "kernelspec": {
   "display_name": "Python 3 (ipykernel)",
   "language": "python",
   "name": "python3"
  },
  "language_info": {
   "codemirror_mode": {
    "name": "ipython",
    "version": 3
   },
   "file_extension": ".py",
   "mimetype": "text/x-python",
   "name": "python",
   "nbconvert_exporter": "python",
   "pygments_lexer": "ipython3",
   "version": "3.9.13"
  }
 },
 "nbformat": 4,
 "nbformat_minor": 5
}

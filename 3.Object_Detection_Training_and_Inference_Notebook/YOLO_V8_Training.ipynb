{
 "cells": [
  {
   "cell_type": "markdown",
   "id": "1c5cdffc",
   "metadata": {},
   "source": [
    "# YOLO V5 Corn_image"
   ]
  },
  {
   "cell_type": "code",
   "execution_count": null,
   "id": "50fefeac",
   "metadata": {},
   "outputs": [],
   "source": [
    "pwd"
   ]
  },
  {
   "cell_type": "code",
   "execution_count": 14,
   "id": "172a00a8",
   "metadata": {},
   "outputs": [
    {
     "name": "stdout",
     "output_type": "stream",
     "text": [
      "Collecting ultralytics\n",
      "  Downloading ultralytics-8.0.29-py3-none-any.whl (272 kB)\n",
      "     -------------------------------------- 272.5/272.5 kB 2.1 MB/s eta 0:00:00\n",
      "Requirement already satisfied: torch>=1.7.0 in c:\\programdata\\anaconda3\\lib\\site-packages (from ultralytics) (1.13.1)\n",
      "Requirement already satisfied: pandas>=1.1.4 in c:\\programdata\\anaconda3\\lib\\site-packages (from ultralytics) (1.3.5)\n",
      "Requirement already satisfied: requests>=2.23.0 in c:\\programdata\\anaconda3\\lib\\site-packages (from ultralytics) (2.27.1)\n",
      "Requirement already satisfied: psutil in c:\\programdata\\anaconda3\\lib\\site-packages (from ultralytics) (5.9.0)\n",
      "Requirement already satisfied: numpy>=1.18.5 in c:\\programdata\\anaconda3\\lib\\site-packages (from ultralytics) (1.24.2)Note: you may need to restart the kernel to use updated packages.\n",
      "\n",
      "Requirement already satisfied: thop>=0.1.1 in c:\\programdata\\anaconda3\\lib\\site-packages (from ultralytics) (0.1.1.post2209072238)\n",
      "Requirement already satisfied: PyYAML>=5.3.1 in c:\\programdata\\anaconda3\\lib\\site-packages (from ultralytics) (6.0)\n",
      "Requirement already satisfied: Pillow>=7.1.2 in c:\\programdata\\anaconda3\\lib\\site-packages (from ultralytics) (9.3.0)\n",
      "Requirement already satisfied: opencv-python>=4.6.0 in c:\\programdata\\anaconda3\\lib\\site-packages (from ultralytics) (4.7.0.68)\n",
      "Requirement already satisfied: seaborn>=0.11.0 in c:\\programdata\\anaconda3\\lib\\site-packages (from ultralytics) (0.11.2)\n",
      "Requirement already satisfied: ipython in c:\\programdata\\anaconda3\\lib\\site-packages (from ultralytics) (7.31.1)\n",
      "Requirement already satisfied: sentry-sdk in c:\\programdata\\anaconda3\\lib\\site-packages (from ultralytics) (1.13.0)\n",
      "Requirement already satisfied: tensorboard>=2.4.1 in c:\\users\\rohit-l490\\appdata\\roaming\\python\\python39\\site-packages (from ultralytics) (2.11.0)\n",
      "Requirement already satisfied: scipy>=1.4.1 in c:\\programdata\\anaconda3\\lib\\site-packages (from ultralytics) (1.9.1)\n",
      "Requirement already satisfied: tqdm>=4.64.0 in c:\\programdata\\anaconda3\\lib\\site-packages (from ultralytics) (4.64.1)\n",
      "Requirement already satisfied: torchvision>=0.8.1 in c:\\programdata\\anaconda3\\lib\\site-packages (from ultralytics) (0.14.1)\n",
      "Requirement already satisfied: matplotlib>=3.2.2 in c:\\programdata\\anaconda3\\lib\\site-packages (from ultralytics) (3.5.2)\n",
      "Requirement already satisfied: packaging>=20.0 in c:\\programdata\\anaconda3\\lib\\site-packages (from matplotlib>=3.2.2->ultralytics) (21.3)\n",
      "Requirement already satisfied: python-dateutil>=2.7 in c:\\programdata\\anaconda3\\lib\\site-packages (from matplotlib>=3.2.2->ultralytics) (2.8.1)\n",
      "Requirement already satisfied: pyparsing>=2.2.1 in c:\\programdata\\anaconda3\\lib\\site-packages (from matplotlib>=3.2.2->ultralytics) (3.0.9)\n",
      "Requirement already satisfied: cycler>=0.10 in c:\\programdata\\anaconda3\\lib\\site-packages (from matplotlib>=3.2.2->ultralytics) (0.11.0)\n",
      "Requirement already satisfied: kiwisolver>=1.0.1 in c:\\programdata\\anaconda3\\lib\\site-packages (from matplotlib>=3.2.2->ultralytics) (1.4.2)\n",
      "Requirement already satisfied: fonttools>=4.22.0 in c:\\programdata\\anaconda3\\lib\\site-packages (from matplotlib>=3.2.2->ultralytics) (4.25.0)\n",
      "Requirement already satisfied: pytz>=2017.3 in c:\\programdata\\anaconda3\\lib\\site-packages (from pandas>=1.1.4->ultralytics) (2019.3)\n",
      "Requirement already satisfied: certifi>=2017.4.17 in c:\\programdata\\anaconda3\\lib\\site-packages (from requests>=2.23.0->ultralytics) (2022.9.14)\n",
      "Requirement already satisfied: idna<4,>=2.5 in c:\\programdata\\anaconda3\\lib\\site-packages (from requests>=2.23.0->ultralytics) (3.3)\n",
      "Requirement already satisfied: charset-normalizer~=2.0.0 in c:\\programdata\\anaconda3\\lib\\site-packages (from requests>=2.23.0->ultralytics) (2.0.4)\n",
      "Requirement already satisfied: urllib3<1.27,>=1.21.1 in c:\\programdata\\anaconda3\\lib\\site-packages (from requests>=2.23.0->ultralytics) (1.26.11)\n",
      "Requirement already satisfied: protobuf<4,>=3.9.2 in c:\\programdata\\anaconda3\\lib\\site-packages (from tensorboard>=2.4.1->ultralytics) (3.20.3)\n",
      "Requirement already satisfied: absl-py>=0.4 in c:\\users\\rohit-l490\\appdata\\roaming\\python\\python39\\site-packages (from tensorboard>=2.4.1->ultralytics) (1.3.0)\n",
      "Requirement already satisfied: markdown>=2.6.8 in c:\\programdata\\anaconda3\\lib\\site-packages (from tensorboard>=2.4.1->ultralytics) (3.3.4)\n",
      "Requirement already satisfied: google-auth-oauthlib<0.5,>=0.4.1 in c:\\users\\rohit-l490\\appdata\\roaming\\python\\python39\\site-packages (from tensorboard>=2.4.1->ultralytics) (0.4.6)\n",
      "Requirement already satisfied: setuptools>=41.0.0 in c:\\programdata\\anaconda3\\lib\\site-packages (from tensorboard>=2.4.1->ultralytics) (63.4.1)\n",
      "Requirement already satisfied: werkzeug>=1.0.1 in c:\\programdata\\anaconda3\\lib\\site-packages (from tensorboard>=2.4.1->ultralytics) (2.0.3)\n",
      "Requirement already satisfied: google-auth<3,>=1.6.3 in c:\\programdata\\anaconda3\\lib\\site-packages (from tensorboard>=2.4.1->ultralytics) (2.11.0)\n",
      "Requirement already satisfied: tensorboard-data-server<0.7.0,>=0.6.0 in c:\\users\\rohit-l490\\appdata\\roaming\\python\\python39\\site-packages (from tensorboard>=2.4.1->ultralytics) (0.6.1)\n",
      "Requirement already satisfied: tensorboard-plugin-wit>=1.6.0 in c:\\users\\rohit-l490\\appdata\\roaming\\python\\python39\\site-packages (from tensorboard>=2.4.1->ultralytics) (1.8.1)\n",
      "Requirement already satisfied: wheel>=0.26 in c:\\programdata\\anaconda3\\lib\\site-packages (from tensorboard>=2.4.1->ultralytics) (0.37.1)\n",
      "Requirement already satisfied: grpcio>=1.24.3 in c:\\users\\rohit-l490\\appdata\\roaming\\python\\python39\\site-packages (from tensorboard>=2.4.1->ultralytics) (1.51.1)\n",
      "Requirement already satisfied: typing-extensions in c:\\programdata\\anaconda3\\lib\\site-packages (from torch>=1.7.0->ultralytics) (4.3.0)\n",
      "Requirement already satisfied: colorama in c:\\programdata\\anaconda3\\lib\\site-packages (from tqdm>=4.64.0->ultralytics) (0.4.5)\n",
      "Requirement already satisfied: prompt-toolkit!=3.0.0,!=3.0.1,<3.1.0,>=2.0.0 in c:\\programdata\\anaconda3\\lib\\site-packages (from ipython->ultralytics) (3.0.20)\n",
      "Requirement already satisfied: matplotlib-inline in c:\\programdata\\anaconda3\\lib\\site-packages (from ipython->ultralytics) (0.1.6)\n",
      "Requirement already satisfied: decorator in c:\\programdata\\anaconda3\\lib\\site-packages (from ipython->ultralytics) (5.1.1)\n",
      "Requirement already satisfied: backcall in c:\\programdata\\anaconda3\\lib\\site-packages (from ipython->ultralytics) (0.2.0)\n",
      "Requirement already satisfied: pickleshare in c:\\programdata\\anaconda3\\lib\\site-packages (from ipython->ultralytics) (0.7.5)\n",
      "Requirement already satisfied: jedi>=0.16 in c:\\programdata\\anaconda3\\lib\\site-packages (from ipython->ultralytics) (0.18.1)\n",
      "Requirement already satisfied: pygments in c:\\programdata\\anaconda3\\lib\\site-packages (from ipython->ultralytics) (2.11.2)\n",
      "Requirement already satisfied: traitlets>=4.2 in c:\\programdata\\anaconda3\\lib\\site-packages (from ipython->ultralytics) (5.1.1)\n",
      "Requirement already satisfied: pyasn1-modules>=0.2.1 in c:\\programdata\\anaconda3\\lib\\site-packages (from google-auth<3,>=1.6.3->tensorboard>=2.4.1->ultralytics) (0.2.8)\n",
      "Requirement already satisfied: rsa<5,>=3.1.4 in c:\\users\\rohit-l490\\appdata\\roaming\\python\\python39\\site-packages (from google-auth<3,>=1.6.3->tensorboard>=2.4.1->ultralytics) (4.9)\n",
      "Requirement already satisfied: cachetools<6.0,>=2.0.0 in c:\\users\\rohit-l490\\appdata\\roaming\\python\\python39\\site-packages (from google-auth<3,>=1.6.3->tensorboard>=2.4.1->ultralytics) (5.2.0)\n",
      "Requirement already satisfied: six>=1.9.0 in c:\\programdata\\anaconda3\\lib\\site-packages (from google-auth<3,>=1.6.3->tensorboard>=2.4.1->ultralytics) (1.16.0)\n",
      "Requirement already satisfied: requests-oauthlib>=0.7.0 in c:\\users\\rohit-l490\\appdata\\roaming\\python\\python39\\site-packages (from google-auth-oauthlib<0.5,>=0.4.1->tensorboard>=2.4.1->ultralytics) (1.3.1)\n",
      "Requirement already satisfied: parso<0.9.0,>=0.8.0 in c:\\programdata\\anaconda3\\lib\\site-packages (from jedi>=0.16->ipython->ultralytics) (0.8.3)\n",
      "Requirement already satisfied: wcwidth in c:\\programdata\\anaconda3\\lib\\site-packages (from prompt-toolkit!=3.0.0,!=3.0.1,<3.1.0,>=2.0.0->ipython->ultralytics) (0.2.5)\n"
     ]
    },
    {
     "name": "stdout",
     "output_type": "stream",
     "text": [
      "Requirement already satisfied: pyasn1<0.5.0,>=0.4.6 in c:\\programdata\\anaconda3\\lib\\site-packages (from pyasn1-modules>=0.2.1->google-auth<3,>=1.6.3->tensorboard>=2.4.1->ultralytics) (0.4.8)\n",
      "Requirement already satisfied: oauthlib>=3.0.0 in c:\\users\\rohit-l490\\appdata\\roaming\\python\\python39\\site-packages (from requests-oauthlib>=0.7.0->google-auth-oauthlib<0.5,>=0.4.1->tensorboard>=2.4.1->ultralytics) (3.2.2)\n",
      "Installing collected packages: ultralytics\n",
      "Successfully installed ultralytics-8.0.29\n"
     ]
    }
   ],
   "source": [
    "#pip install ultralytics"
   ]
  },
  {
   "cell_type": "code",
   "execution_count": null,
   "id": "a927f560",
   "metadata": {},
   "outputs": [],
   "source": [
    "#!pip install wandb"
   ]
  },
  {
   "cell_type": "code",
   "execution_count": null,
   "id": "db217073",
   "metadata": {},
   "outputs": [],
   "source": [
    "#pip install clearml"
   ]
  },
  {
   "cell_type": "code",
   "execution_count": null,
   "id": "16b06083",
   "metadata": {},
   "outputs": [],
   "source": [
    "#pip install comet_ml"
   ]
  },
  {
   "cell_type": "code",
   "execution_count": null,
   "id": "ac48e50e",
   "metadata": {},
   "outputs": [],
   "source": [
    "#pip install tensorboard-pytorch"
   ]
  },
  {
   "cell_type": "code",
   "execution_count": null,
   "id": "89890183",
   "metadata": {},
   "outputs": [],
   "source": [
    "#pip install tensorboard"
   ]
  },
  {
   "cell_type": "code",
   "execution_count": null,
   "id": "b6ac1062",
   "metadata": {},
   "outputs": [],
   "source": [
    "#pip install -r requirements.txt"
   ]
  },
  {
   "cell_type": "code",
   "execution_count": null,
   "id": "6f3c8575",
   "metadata": {
    "scrolled": true
   },
   "outputs": [],
   "source": [
    "#!git clone https://github.com/ultralytics/yolov5  # clone"
   ]
  },
  {
   "cell_type": "code",
   "execution_count": null,
   "id": "3842732a",
   "metadata": {},
   "outputs": [],
   "source": [
    "%cd yolov5"
   ]
  },
  {
   "cell_type": "code",
   "execution_count": 51,
   "id": "dc756898",
   "metadata": {},
   "outputs": [
    {
     "name": "stdout",
     "output_type": "stream",
     "text": [
      "Requirement already satisfied: Pillow in c:\\programdata\\anaconda3\\lib\\site-packages (9.3.0)\n",
      "Note: you may need to restart the kernel to use updated packages.\n"
     ]
    }
   ],
   "source": [
    "pip install Pillow"
   ]
  },
  {
   "cell_type": "code",
   "execution_count": 49,
   "id": "7b329cf1",
   "metadata": {},
   "outputs": [
    {
     "name": "stderr",
     "output_type": "stream",
     "text": [
      "ERROR: Could not find a version that satisfies the requirement PIL (from versions: none)\n",
      "ERROR: No matching distribution found for PIL\n"
     ]
    },
    {
     "name": "stdout",
     "output_type": "stream",
     "text": [
      "Note: you may need to restart the kernel to use updated packages.\n"
     ]
    }
   ],
   "source": [
    "pip install PIL"
   ]
  },
  {
   "cell_type": "code",
   "execution_count": 50,
   "id": "ca206292",
   "metadata": {},
   "outputs": [
    {
     "name": "stderr",
     "output_type": "stream",
     "text": [
      "ERROR: Could not find a version that satisfies the requirement cv2 (from versions: none)\n",
      "ERROR: No matching distribution found for cv2\n"
     ]
    },
    {
     "name": "stdout",
     "output_type": "stream",
     "text": [
      "Note: you may need to restart the kernel to use updated packages.\n"
     ]
    }
   ],
   "source": [
    "pip install cv2"
   ]
  },
  {
   "cell_type": "code",
   "execution_count": 26,
   "id": "a4ebd500",
   "metadata": {},
   "outputs": [
    {
     "name": "stdout",
     "output_type": "stream",
     "text": [
      "ClearML Monitor: Could not detect iteration reporting, falling back to iterations as seconds-from-start\n"
     ]
    }
   ],
   "source": [
    "from comet_ml import Experiment\n"
   ]
  },
  {
   "cell_type": "code",
   "execution_count": 19,
   "id": "f97b1ad5",
   "metadata": {
    "scrolled": true
   },
   "outputs": [],
   "source": [
    "import torch\n",
    "\n",
    "# Model\n",
    "#model = torch.hub.load('ultralytics/yolov5', 'yolov5s')"
   ]
  },
  {
   "cell_type": "code",
   "execution_count": 20,
   "id": "afdccc2f",
   "metadata": {},
   "outputs": [],
   "source": [
    "import numpy\n",
    "import clearml\n",
    "import comet_ml\n",
    "import tensorboard\n",
    "import wandb"
   ]
  },
  {
   "cell_type": "code",
   "execution_count": 52,
   "id": "4b01b341",
   "metadata": {},
   "outputs": [],
   "source": [
    "from PIL import Image\n"
   ]
  },
  {
   "cell_type": "code",
   "execution_count": 23,
   "id": "7412f663",
   "metadata": {},
   "outputs": [],
   "source": [
    "from clearml import Task"
   ]
  },
  {
   "cell_type": "code",
   "execution_count": 53,
   "id": "48712919",
   "metadata": {},
   "outputs": [],
   "source": [
    "import cv2\n"
   ]
  },
  {
   "cell_type": "code",
   "execution_count": 5,
   "id": "fca622a9",
   "metadata": {},
   "outputs": [
    {
     "data": {
      "text/plain": [
       "'C:\\\\Users\\\\Rohit-L490'"
      ]
     },
     "execution_count": 5,
     "metadata": {},
     "output_type": "execute_result"
    }
   ],
   "source": [
    "pwd"
   ]
  },
  {
   "cell_type": "code",
   "execution_count": null,
   "id": "ad5d528e",
   "metadata": {},
   "outputs": [],
   "source": [
    "#img = 'https://ultralytics.com/images/zidane.jpg'  # or file, Path, PIL, OpenCV, numpy, list"
   ]
  },
  {
   "cell_type": "code",
   "execution_count": null,
   "id": "b0f9c043",
   "metadata": {},
   "outputs": [],
   "source": [
    "#results = model(img)"
   ]
  },
  {
   "cell_type": "code",
   "execution_count": null,
   "id": "8eaddeea",
   "metadata": {},
   "outputs": [],
   "source": [
    "#results.print()"
   ]
  },
  {
   "cell_type": "code",
   "execution_count": null,
   "id": "a3d5ab00",
   "metadata": {},
   "outputs": [],
   "source": [
    "#!python detect.py --weights yolov5s.pt --source image.jpg"
   ]
  },
  {
   "cell_type": "code",
   "execution_count": 5,
   "id": "f15fad30",
   "metadata": {},
   "outputs": [
    {
     "data": {
      "text/plain": [
       "'C:\\\\Users\\\\Rohit-L490'"
      ]
     },
     "execution_count": 5,
     "metadata": {},
     "output_type": "execute_result"
    }
   ],
   "source": [
    "pwd"
   ]
  },
  {
   "cell_type": "code",
   "execution_count": 6,
   "id": "bcbcfc43",
   "metadata": {},
   "outputs": [
    {
     "name": "stdout",
     "output_type": "stream",
     "text": [
      "C:\\Users\\Rohit-L490\\yolov5\n"
     ]
    }
   ],
   "source": [
    "%cd C:\\\\Users\\\\Rohit-L490\\yolov5"
   ]
  },
  {
   "cell_type": "code",
   "execution_count": null,
   "id": "c497efcc",
   "metadata": {},
   "outputs": [],
   "source": [
    "#!mkdir corn_image\n",
    "#%cd corn_image"
   ]
  },
  {
   "cell_type": "code",
   "execution_count": null,
   "id": "adcfb4cd",
   "metadata": {},
   "outputs": [],
   "source": [
    "#!curl -L \"https://universe.roboflow.com/ds/ziQfHPi8rO?key=wRmhJG3ldD\" > corn.zip \n",
    "#!unzip corn.zip\n",
    "#!rm corn.zip"
   ]
  },
  {
   "cell_type": "code",
   "execution_count": null,
   "id": "37373ea9",
   "metadata": {},
   "outputs": [],
   "source": [
    "SIZE = 640\n",
    "BATCH_SIZE = 32\n",
    "EPOCHS = 20\n",
    "MODEL = \"yolov5s\"\n",
    "WORKERS = 1\n",
    "PROJECT = \"corn_open_image\"\n",
    "RUN_NAME = f'{MODEL}_size{SIZE}_epochs{EPOCHS}_batch{BATCH_SIZE}_small'"
   ]
  },
  {
   "cell_type": "code",
   "execution_count": null,
   "id": "d5989a51",
   "metadata": {},
   "outputs": [],
   "source": [
    "tensorboard --logdir corn_open_image"
   ]
  },
  {
   "cell_type": "code",
   "execution_count": null,
   "id": "8d8149fa",
   "metadata": {},
   "outputs": [],
   "source": [
    "!python train.py --img {SIZE}\\\n",
    "               --batch {BATCH_SIZE}\\\n",
    "               --epochs {EPOCHS}\\\n",
    "               --data C:/Users/Rohit-L490/yolov5/corn_image/data.yaml\\\n",
    "               --weights {MODEL}.pt\\\n",
    "               --workers {WORKERS}\\\n",
    "               --project {PROJECT}\\\n",
    "               --name {RUN_NAME}\\\n",
    "               --exist-ok"
   ]
  },
  {
   "cell_type": "code",
   "execution_count": 5,
   "id": "8fc2ae31",
   "metadata": {},
   "outputs": [],
   "source": [
    "#model_corn = torch.hub.load('ultralytics/yolov5', 'best.pt')"
   ]
  },
  {
   "cell_type": "code",
   "execution_count": null,
   "id": "71e5e9b3",
   "metadata": {},
   "outputs": [],
   "source": [
    "pip install onnxruntime"
   ]
  },
  {
   "cell_type": "code",
   "execution_count": 7,
   "id": "f6b21492",
   "metadata": {},
   "outputs": [
    {
     "name": "stdout",
     "output_type": "stream",
     "text": [
      "Collecting onnx\n",
      "  Downloading onnx-1.13.0-cp39-cp39-win_amd64.whl (12.2 MB)\n",
      "     ---------------------------------------- 12.2/12.2 MB 2.8 MB/s eta 0:00:00\n",
      "Requirement already satisfied: typing-extensions>=3.6.2.1 in c:\\programdata\\anaconda3\\lib\\site-packages (from onnx) (4.3.0)\n",
      "Requirement already satisfied: protobuf<4,>=3.20.2 in c:\\programdata\\anaconda3\\lib\\site-packages (from onnx) (3.20.3)\n",
      "Requirement already satisfied: numpy>=1.16.6 in c:\\programdata\\anaconda3\\lib\\site-packages (from onnx) (1.24.2)\n",
      "Installing collected packages: onnx\n",
      "Successfully installed onnx-1.13.0\n",
      "Note: you may need to restart the kernel to use updated packages.\n"
     ]
    }
   ],
   "source": [
    "pip install onnx"
   ]
  },
  {
   "cell_type": "code",
   "execution_count": 6,
   "id": "cab6ee9f",
   "metadata": {},
   "outputs": [],
   "source": [
    "import onnx\n",
    "onnx_model = onnx.load(\"yolov5s.onnx\")\n",
    "onnx.checker.check_model(onnx_model)"
   ]
  },
  {
   "cell_type": "code",
   "execution_count": 7,
   "id": "e7d0f3ec",
   "metadata": {},
   "outputs": [
    {
     "data": {
      "text/plain": [
       "'C:\\\\Users\\\\Rohit-L490'"
      ]
     },
     "execution_count": 7,
     "metadata": {},
     "output_type": "execute_result"
    }
   ],
   "source": [
    "pwd"
   ]
  },
  {
   "cell_type": "code",
   "execution_count": 8,
   "id": "07cc2889",
   "metadata": {},
   "outputs": [
    {
     "name": "stdout",
     "output_type": "stream",
     "text": [
      "C:\\Users\\Rohit-L490\\yolov5\n"
     ]
    }
   ],
   "source": [
    "%cd C:\\\\Users\\\\Rohit-L490\\\\yolov5"
   ]
  },
  {
   "cell_type": "code",
   "execution_count": 9,
   "id": "0230b9ec",
   "metadata": {},
   "outputs": [
    {
     "name": "stderr",
     "output_type": "stream",
     "text": [
      "detect: weights=['best.pt'], source=data\\images, data=data\\coco128.yaml, imgsz=[640, 640], conf_thres=0.25, iou_thres=0.45, max_det=1000, device=, view_img=False, save_txt=False, save_conf=False, save_crop=False, nosave=False, classes=None, agnostic_nms=False, augment=False, visualize=False, update=False, project=runs\\detect, name=exp, exist_ok=False, line_thickness=3, hide_labels=False, hide_conf=False, half=False, dnn=False, vid_stride=1\n",
      "YOLOv5  v7.0-74-gd02ee60 Python-3.9.13 torch-1.13.1+cpu CPU\n",
      "\n",
      "Fusing layers... \n",
      "Model summary: 157 layers, 7012822 parameters, 0 gradients, 15.8 GFLOPs\n",
      "image 1/2 C:\\Users\\Rohit-L490\\yolov5\\data\\images\\bus.jpg: 640x480 47 Corns, 200.7ms\n",
      "image 2/2 C:\\Users\\Rohit-L490\\yolov5\\data\\images\\zidane.jpg: 384x640 8 Corns, 171.1ms\n",
      "Speed: 0.0ms pre-process, 185.9ms inference, 0.0ms NMS per image at shape (1, 3, 640, 640)\n",
      "Results saved to runs\\detect\\exp5\n"
     ]
    }
   ],
   "source": [
    "!python detect.py --weights best.pt "
   ]
  },
  {
   "cell_type": "code",
   "execution_count": null,
   "id": "6e719aa5",
   "metadata": {},
   "outputs": [],
   "source": []
  },
  {
   "cell_type": "code",
   "execution_count": 10,
   "id": "5ccdbcbe",
   "metadata": {},
   "outputs": [
    {
     "name": "stderr",
     "output_type": "stream",
     "text": [
      "Using cache found in C:\\Users\\Rohit-L490/.cache\\torch\\hub\\ultralytics_yolov5_master\n",
      "YOLOv5  2023-2-6 Python-3.9.13 torch-1.13.1+cpu CPU\n",
      "\n",
      "Fusing layers... \n",
      "Model summary: 157 layers, 7012822 parameters, 0 gradients, 15.8 GFLOPs\n",
      "Adding AutoShape... \n"
     ]
    }
   ],
   "source": [
    "model = torch.hub.load('ultralytics/yolov5', 'custom', 'best.pt')"
   ]
  },
  {
   "cell_type": "code",
   "execution_count": 13,
   "id": "9b17336a",
   "metadata": {},
   "outputs": [
    {
     "ename": "SyntaxError",
     "evalue": "invalid syntax (1471303730.py, line 1)",
     "output_type": "error",
     "traceback": [
      "\u001b[1;36m  File \u001b[1;32m\"C:\\Users\\Rohit-L490\\AppData\\Local\\Temp\\ipykernel_8060\\1471303730.py\"\u001b[1;36m, line \u001b[1;32m1\u001b[0m\n\u001b[1;33m    img= C:\\Users\\Rohit-L490\\image.jpg\u001b[0m\n\u001b[1;37m          ^\u001b[0m\n\u001b[1;31mSyntaxError\u001b[0m\u001b[1;31m:\u001b[0m invalid syntax\n"
     ]
    }
   ],
   "source": [
    "img= C:\\Users\\Rohit-L490\\image.jpg"
   ]
  },
  {
   "cell_type": "code",
   "execution_count": null,
   "id": "55f4add6",
   "metadata": {},
   "outputs": [],
   "source": [
    "#import os\n",
    "\n",
    "#def load_images_from_folder(foldername):\n",
    "    #images = []\n",
    "    #for filename in os.listdir(foldername):\n",
    "        #img = cv2.imread(os.path.join(foldername,filename))\n",
    "        #if img is not None:\n",
    "            #images.append(img)\n",
    "    #return images\n",
    "#img_list=load_images_from_folder(\"photos\")"
   ]
  },
  {
   "cell_type": "code",
   "execution_count": 15,
   "id": "7810abe3",
   "metadata": {},
   "outputs": [],
   "source": [
    "from ultralytics import YOLO\n"
   ]
  },
  {
   "cell_type": "code",
   "execution_count": 16,
   "id": "763c821e",
   "metadata": {},
   "outputs": [
    {
     "name": "stderr",
     "output_type": "stream",
     "text": [
      "\n",
      "                   from  n    params  module                                       arguments                     \n",
      "  0                  -1  1       464  ultralytics.nn.modules.Conv                  [3, 16, 3, 2]                 \n",
      "  1                  -1  1      4672  ultralytics.nn.modules.Conv                  [16, 32, 3, 2]                \n",
      "  2                  -1  1      7360  ultralytics.nn.modules.C2f                   [32, 32, 1, True]             \n",
      "  3                  -1  1     18560  ultralytics.nn.modules.Conv                  [32, 64, 3, 2]                \n",
      "  4                  -1  2     49664  ultralytics.nn.modules.C2f                   [64, 64, 2, True]             \n",
      "  5                  -1  1     73984  ultralytics.nn.modules.Conv                  [64, 128, 3, 2]               \n",
      "  6                  -1  2    197632  ultralytics.nn.modules.C2f                   [128, 128, 2, True]           \n",
      "  7                  -1  1    295424  ultralytics.nn.modules.Conv                  [128, 256, 3, 2]              \n",
      "  8                  -1  1    460288  ultralytics.nn.modules.C2f                   [256, 256, 1, True]           \n",
      "  9                  -1  1    164608  ultralytics.nn.modules.SPPF                  [256, 256, 5]                 \n",
      " 10                  -1  1         0  torch.nn.modules.upsampling.Upsample         [None, 2, 'nearest']          \n",
      " 11             [-1, 6]  1         0  ultralytics.nn.modules.Concat                [1]                           \n",
      " 12                  -1  1    148224  ultralytics.nn.modules.C2f                   [384, 128, 1]                 \n",
      " 13                  -1  1         0  torch.nn.modules.upsampling.Upsample         [None, 2, 'nearest']          \n",
      " 14             [-1, 4]  1         0  ultralytics.nn.modules.Concat                [1]                           \n",
      " 15                  -1  1     37248  ultralytics.nn.modules.C2f                   [192, 64, 1]                  \n",
      " 16                  -1  1     36992  ultralytics.nn.modules.Conv                  [64, 64, 3, 2]                \n",
      " 17            [-1, 12]  1         0  ultralytics.nn.modules.Concat                [1]                           \n",
      " 18                  -1  1    123648  ultralytics.nn.modules.C2f                   [192, 128, 1]                 \n",
      " 19                  -1  1    147712  ultralytics.nn.modules.Conv                  [128, 128, 3, 2]              \n",
      " 20             [-1, 9]  1         0  ultralytics.nn.modules.Concat                [1]                           \n",
      " 21                  -1  1    493056  ultralytics.nn.modules.C2f                   [384, 256, 1]                 \n",
      " 22        [15, 18, 21]  1    897664  ultralytics.nn.modules.Detect                [80, [64, 128, 256]]          \n",
      "YOLOv8n summary: 225 layers, 3157200 parameters, 3157184 gradients, 8.9 GFLOPs\n",
      "\n",
      "Downloading https://github.com/ultralytics/assets/releases/download/v0.0.0/yolov8n.pt to yolov8n.pt...\n"
     ]
    },
    {
     "data": {
      "application/vnd.jupyter.widget-view+json": {
       "model_id": "49564414e1fb4049a3b107af5b869494",
       "version_major": 2,
       "version_minor": 0
      },
      "text/plain": [
       "  0%|          | 0.00/6.23M [00:00<?, ?B/s]"
      ]
     },
     "metadata": {},
     "output_type": "display_data"
    }
   ],
   "source": [
    "model = YOLO(\"yolov8n.yaml\")  # build a new model from scratch\n",
    "model = YOLO(\"yolov8n.pt\")  # load a pretrained model (recommended for training)"
   ]
  },
  {
   "cell_type": "code",
   "execution_count": 17,
   "id": "112f752e",
   "metadata": {},
   "outputs": [
    {
     "data": {
      "text/plain": [
       "'C:\\\\Users\\\\Rohit-L490\\\\yolov5'"
      ]
     },
     "execution_count": 17,
     "metadata": {},
     "output_type": "execute_result"
    }
   ],
   "source": [
    "pwd"
   ]
  },
  {
   "cell_type": "code",
   "execution_count": 18,
   "id": "96947395",
   "metadata": {
    "scrolled": true
   },
   "outputs": [
    {
     "name": "stdout",
     "output_type": "stream",
     "text": [
      "C:\\Users\\Rohit-L490\\yolov5\\corn_image\n"
     ]
    }
   ],
   "source": [
    "%cd C:\\\\Users\\\\Rohit-L490\\\\yolov5\\\\corn_image"
   ]
  },
  {
   "cell_type": "code",
   "execution_count": 33,
   "id": "d143c258",
   "metadata": {},
   "outputs": [
    {
     "name": "stdout",
     "output_type": "stream",
     "text": [
      "env: CLEARML_WEB_HOST=https://app.clear.ml\n",
      "env: CLEARML_API_HOST=https://api.clear.ml\n",
      "env: CLEARML_FILES_HOST=https://files.clear.ml\n",
      "env: CLEARML_API_ACCESS_KEY=H3HYU8X7KUUQV7I47OPD\n",
      "env: CLEARML_API_SECRET_KEY=VGcCIkGkgo0DTNySAtUgHtxTth4tZZ7pdwJ1qUlcxK9WZIwdZv\n",
      "env: COMET_API_KEY=NJlmr41qZOJ8AdxcaAq0BfIcC\n"
     ]
    }
   ],
   "source": [
    "%env CLEARML_WEB_HOST=https://app.clear.ml\n",
    "%env CLEARML_API_HOST=https://api.clear.ml\n",
    "%env CLEARML_FILES_HOST=https://files.clear.ml\n",
    "%env CLEARML_API_ACCESS_KEY=H3HYU8X7KUUQV7I47OPD\n",
    "%env CLEARML_API_SECRET_KEY=VGcCIkGkgo0DTNySAtUgHtxTth4tZZ7pdwJ1qUlcxK9WZIwdZv\n",
    "%env COMET_API_KEY=NJlmr41qZOJ8AdxcaAq0BfIcC"
   ]
  },
  {
   "cell_type": "code",
   "execution_count": 34,
   "id": "69f36178",
   "metadata": {},
   "outputs": [
    {
     "name": "stderr",
     "output_type": "stream",
     "text": [
      "COMET INFO: ---------------------------\n",
      "COMET INFO: Comet.ml Experiment Summary\n",
      "COMET INFO: ---------------------------\n",
      "COMET INFO:   Data:\n",
      "COMET INFO:     display_summary_level : 1\n",
      "COMET INFO:     url                   : https://www.comet.com/rohitpandey13/corn/bb1052ff603a44e5a5c667a2a5023812\n",
      "COMET INFO:   Uploads:\n",
      "COMET INFO:     conda-environment-definition : 1\n",
      "COMET INFO:     conda-info                   : 1\n",
      "COMET INFO:     conda-specification          : 1\n",
      "COMET INFO:     environment details          : 1\n",
      "COMET INFO:     filename                     : 1\n",
      "COMET INFO:     git metadata                 : 1\n",
      "COMET INFO:     git-patch (uncompressed)     : 1 (5.50 KB)\n",
      "COMET INFO:     installed packages           : 1\n",
      "COMET INFO:     notebook                     : 1\n",
      "COMET INFO:     source_code                  : 1\n",
      "COMET INFO: ---------------------------\n",
      "COMET WARNING: As you are running in a Jupyter environment, you will need to call `experiment.end()` when finished to ensure all metrics and code are logged before exiting.\n",
      "COMET INFO: Experiment is live on comet.com https://www.comet.com/rohitpandey13/corn/a8429c62b9074bd188c3d7df66c3e439\n",
      "\n"
     ]
    }
   ],
   "source": [
    "experiment = Experiment(\n",
    "    api_key=\"NJlmr41qZOJ8AdxcaAq0BfIcC\",\n",
    "    project_name=\"corn\",\n",
    "    workspace=\"rohitpandey13\",\n",
    ")"
   ]
  },
  {
   "cell_type": "code",
   "execution_count": 35,
   "id": "907dd949",
   "metadata": {},
   "outputs": [
    {
     "name": "stderr",
     "output_type": "stream",
     "text": [
      "Ultralytics YOLOv8.0.29  Python-3.9.13 torch-1.13.1+cpu CPU\n",
      "yolo\\engine\\trainer: task=detect, mode=train, model=yolov8n.yaml, data=data.yaml, epochs=10, patience=50, batch=16, imgsz=640, save=True, cache=False, device=None, workers=8, project=None, name=None, exist_ok=False, pretrained=False, optimizer=SGD, verbose=True, seed=0, deterministic=True, single_cls=False, image_weights=False, rect=False, cos_lr=False, close_mosaic=10, resume=False, overlap_mask=True, mask_ratio=4, dropout=False, val=True, save_json=False, save_hybrid=False, conf=0.001, iou=0.7, max_det=300, half=False, dnn=False, plots=True, source=ultralytics/assets/, show=False, save_txt=False, save_conf=False, save_crop=False, hide_labels=False, hide_conf=False, vid_stride=1, line_thickness=3, visualize=False, augment=False, agnostic_nms=False, classes=None, retina_masks=False, boxes=True, format=torchscript, keras=False, optimize=False, int8=False, dynamic=False, simplify=False, opset=17, workspace=4, nms=False, lr0=0.01, lrf=0.01, momentum=0.937, weight_decay=0.001, warmup_epochs=3.0, warmup_momentum=0.8, warmup_bias_lr=0.1, box=7.5, cls=0.5, dfl=1.5, fl_gamma=0.0, label_smoothing=0.0, nbs=64, hsv_h=0.015, hsv_s=0.7, hsv_v=0.4, degrees=0.0, translate=0.1, scale=0.5, shear=0.0, perspective=0.0, flipud=0.0, fliplr=0.5, mosaic=1.0, mixup=0.0, copy_paste=0.0, cfg=None, v5loader=False, save_dir=runs\\detect\\train5\n",
      "\n",
      "                   from  n    params  module                                       arguments                     \n",
      "  0                  -1  1       464  ultralytics.nn.modules.Conv                  [3, 16, 3, 2]                 \n",
      "  1                  -1  1      4672  ultralytics.nn.modules.Conv                  [16, 32, 3, 2]                \n",
      "  2                  -1  1      7360  ultralytics.nn.modules.C2f                   [32, 32, 1, True]             \n",
      "  3                  -1  1     18560  ultralytics.nn.modules.Conv                  [32, 64, 3, 2]                \n",
      "  4                  -1  2     49664  ultralytics.nn.modules.C2f                   [64, 64, 2, True]             \n",
      "  5                  -1  1     73984  ultralytics.nn.modules.Conv                  [64, 128, 3, 2]               \n",
      "  6                  -1  2    197632  ultralytics.nn.modules.C2f                   [128, 128, 2, True]           \n",
      "  7                  -1  1    295424  ultralytics.nn.modules.Conv                  [128, 256, 3, 2]              \n",
      "  8                  -1  1    460288  ultralytics.nn.modules.C2f                   [256, 256, 1, True]           \n",
      "  9                  -1  1    164608  ultralytics.nn.modules.SPPF                  [256, 256, 5]                 \n",
      " 10                  -1  1         0  torch.nn.modules.upsampling.Upsample         [None, 2, 'nearest']          \n",
      " 11             [-1, 6]  1         0  ultralytics.nn.modules.Concat                [1]                           \n",
      " 12                  -1  1    148224  ultralytics.nn.modules.C2f                   [384, 128, 1]                 \n",
      " 13                  -1  1         0  torch.nn.modules.upsampling.Upsample         [None, 2, 'nearest']          \n",
      " 14             [-1, 4]  1         0  ultralytics.nn.modules.Concat                [1]                           \n",
      " 15                  -1  1     37248  ultralytics.nn.modules.C2f                   [192, 64, 1]                  \n",
      " 16                  -1  1     36992  ultralytics.nn.modules.Conv                  [64, 64, 3, 2]                \n",
      " 17            [-1, 12]  1         0  ultralytics.nn.modules.Concat                [1]                           \n",
      " 18                  -1  1    123648  ultralytics.nn.modules.C2f                   [192, 128, 1]                 \n",
      " 19                  -1  1    147712  ultralytics.nn.modules.Conv                  [128, 128, 3, 2]              \n",
      " 20             [-1, 9]  1         0  ultralytics.nn.modules.Concat                [1]                           \n",
      " 21                  -1  1    493056  ultralytics.nn.modules.C2f                   [384, 256, 1]                 \n",
      " 22        [15, 18, 21]  1    751507  ultralytics.nn.modules.Detect                [1, [64, 128, 256]]           \n",
      "Model summary: 225 layers, 3011043 parameters, 3011027 gradients, 8.2 GFLOPs\n",
      "\n",
      "Transferred 355/355 items from pretrained weights\n",
      "COMET INFO: ---------------------------\n",
      "COMET INFO: Comet.ml Experiment Summary\n",
      "COMET INFO: ---------------------------\n",
      "COMET INFO:   Data:\n",
      "COMET INFO:     display_summary_level : 1\n",
      "COMET INFO:     url                   : https://www.comet.com/rohitpandey13/corn/a8429c62b9074bd188c3d7df66c3e439\n",
      "COMET INFO:   Uploads:\n",
      "COMET INFO:     environment details      : 1\n",
      "COMET INFO:     filename                 : 1\n",
      "COMET INFO:     git metadata             : 1\n",
      "COMET INFO:     git-patch (uncompressed) : 1 (5.50 KB)\n",
      "COMET INFO:     installed packages       : 1\n",
      "COMET INFO:     notebook                 : 1\n",
      "COMET INFO:     source_code              : 1\n",
      "COMET INFO: ---------------------------\n",
      "COMET WARNING: Not all initial data has been logged for experiment a8429c62b9074bd188c3d7df66c3e439, call Experiment.end() to ensure that all data to have been logged\n",
      "COMET WARNING: As you are running in a Jupyter environment, you will need to call `experiment.end()` when finished to ensure all metrics and code are logged before exiting.\n",
      "COMET INFO: Experiment is live on comet.com https://www.comet.com/rohitpandey13/yolov8/c940c849bd5b40f18c4942ce7702ac95\n",
      "\n"
     ]
    },
    {
     "name": "stdout",
     "output_type": "stream",
     "text": [
      "WARNING:tensorflow:Please fix your imports. Module tensorflow.python.training.tracking.util has been moved to tensorflow.python.checkpoint.checkpoint. The old module will be deleted in version 2.11.\n"
     ]
    },
    {
     "name": "stderr",
     "output_type": "stream",
     "text": [
      "COMET INFO: ---------------------------\n",
      "COMET INFO: Comet.ml Experiment Summary\n",
      "COMET INFO: ---------------------------\n",
      "COMET INFO:   Data:\n",
      "COMET INFO:     display_summary_level : 1\n",
      "COMET INFO:     url                   : https://www.comet.com/rohitpandey13/yolov8/c940c849bd5b40f18c4942ce7702ac95\n",
      "COMET INFO:   Parameters:\n",
      "COMET INFO:     agnostic_nms    : False\n",
      "COMET INFO:     augment         : False\n",
      "COMET INFO:     batch           : 16\n",
      "COMET INFO:     box             : 7.5\n",
      "COMET INFO:     boxes           : True\n",
      "COMET INFO:     cache           : False\n",
      "COMET INFO:     cfg             : 1\n",
      "COMET INFO:     classes         : 1\n",
      "COMET INFO:     close_mosaic    : 10\n",
      "COMET INFO:     cls             : 0.5\n",
      "COMET INFO:     conf            : 0.001\n",
      "COMET INFO:     copy_paste      : 0.0\n",
      "COMET INFO:     cos_lr          : False\n",
      "COMET INFO:     data            : data.yaml\n",
      "COMET INFO:     degrees         : 0.0\n",
      "COMET INFO:     deterministic   : True\n",
      "COMET INFO:     device          : 1\n",
      "COMET INFO:     dfl             : 1.5\n",
      "COMET INFO:     dnn             : False\n",
      "COMET INFO:     dropout         : False\n",
      "COMET INFO:     dynamic         : False\n",
      "COMET INFO:     epochs          : 10\n",
      "COMET INFO:     exist_ok        : False\n",
      "COMET INFO:     fl_gamma        : 0.0\n",
      "COMET INFO:     fliplr          : 0.5\n",
      "COMET INFO:     flipud          : 0.0\n",
      "COMET INFO:     format          : torchscript\n",
      "COMET INFO:     half            : False\n",
      "COMET INFO:     hide_conf       : False\n",
      "COMET INFO:     hide_labels     : False\n",
      "COMET INFO:     hsv_h           : 0.015\n",
      "COMET INFO:     hsv_s           : 0.7\n",
      "COMET INFO:     hsv_v           : 0.4\n",
      "COMET INFO:     image_weights   : False\n",
      "COMET INFO:     imgsz           : 640\n",
      "COMET INFO:     int8            : False\n",
      "COMET INFO:     iou             : 0.7\n",
      "COMET INFO:     keras           : False\n",
      "COMET INFO:     label_smoothing : 0.0\n",
      "COMET INFO:     line_thickness  : 3\n",
      "COMET INFO:     lr0             : 0.01\n",
      "COMET INFO:     lrf             : 0.01\n",
      "COMET INFO:     mask_ratio      : 4\n",
      "COMET INFO:     max_det         : 300\n",
      "COMET INFO:     mixup           : 0.0\n",
      "COMET INFO:     mode            : train\n",
      "COMET INFO:     model           : yolov8n.yaml\n",
      "COMET INFO:     momentum        : 0.937\n",
      "COMET INFO:     mosaic          : 1.0\n",
      "COMET INFO:     name            : 1\n",
      "COMET INFO:     nbs             : 64\n",
      "COMET INFO:     nms             : False\n",
      "COMET INFO:     opset           : 17\n",
      "COMET INFO:     optimize        : False\n",
      "COMET INFO:     optimizer       : SGD\n",
      "COMET INFO:     overlap_mask    : True\n",
      "COMET INFO:     patience        : 50\n",
      "COMET INFO:     perspective     : 0.0\n",
      "COMET INFO:     plots           : True\n",
      "COMET INFO:     pretrained      : False\n",
      "COMET INFO:     project         : 1\n",
      "COMET INFO:     rect            : False\n",
      "COMET INFO:     resume          : False\n",
      "COMET INFO:     retina_masks    : False\n",
      "COMET INFO:     save            : True\n",
      "COMET INFO:     save_conf       : False\n",
      "COMET INFO:     save_crop       : False\n",
      "COMET INFO:     save_dir        : runs\\detect\\train5\n",
      "COMET INFO:     save_hybrid     : False\n",
      "COMET INFO:     save_json       : False\n",
      "COMET INFO:     save_txt        : False\n",
      "COMET INFO:     scale           : 0.5\n",
      "COMET INFO:     seed            : 0\n",
      "COMET INFO:     shear           : 0.0\n",
      "COMET INFO:     show            : False\n",
      "COMET INFO:     simplify        : False\n",
      "COMET INFO:     single_cls      : False\n",
      "COMET INFO:     source          : ultralytics/assets/\n",
      "COMET INFO:     task            : detect\n",
      "COMET INFO:     translate       : 0.1\n",
      "COMET INFO:     v5loader        : False\n",
      "COMET INFO:     val             : True\n",
      "COMET INFO:     verbose         : True\n",
      "COMET INFO:     vid_stride      : 1\n",
      "COMET INFO:     visualize       : False\n",
      "COMET INFO:     warmup_bias_lr  : 0.1\n",
      "COMET INFO:     warmup_epochs   : 3.0\n",
      "COMET INFO:     warmup_momentum : 0.8\n",
      "COMET INFO:     weight_decay    : 0.001\n",
      "COMET INFO:     workers         : 0\n",
      "COMET INFO:     workspace       : 4\n",
      "COMET INFO:   Uploads:\n",
      "COMET INFO:     environment details      : 1\n",
      "COMET INFO:     filename                 : 1\n",
      "COMET INFO:     git metadata             : 1\n",
      "COMET INFO:     git-patch (uncompressed) : 1 (5.50 KB)\n",
      "COMET INFO:     installed packages       : 1\n",
      "COMET INFO:     notebook                 : 1\n",
      "COMET INFO:     source_code              : 1\n",
      "COMET INFO: ---------------------------\n",
      "COMET WARNING: Not all initial data has been logged for experiment c940c849bd5b40f18c4942ce7702ac95, call Experiment.end() to ensure that all data to have been logged\n",
      "COMET WARNING: As you are running in a Jupyter environment, you will need to call `experiment.end()` when finished to ensure all metrics and code are logged before exiting.\n",
      "COMET INFO: Experiment is live on comet.com https://www.comet.com/rohitpandey13/yolov8/53a08a8192314f03aa578f194e3331db\n",
      "\n",
      "COMET INFO: ---------------------------\n",
      "COMET INFO: Comet.ml Experiment Summary\n",
      "COMET INFO: ---------------------------\n",
      "COMET INFO:   Data:\n",
      "COMET INFO:     display_summary_level : 1\n",
      "COMET INFO:     url                   : https://www.comet.com/rohitpandey13/yolov8/53a08a8192314f03aa578f194e3331db\n",
      "COMET INFO:   Parameters:\n",
      "COMET INFO:     agnostic_nms    : False\n",
      "COMET INFO:     augment         : False\n",
      "COMET INFO:     batch           : 16\n",
      "COMET INFO:     box             : 7.5\n",
      "COMET INFO:     boxes           : True\n",
      "COMET INFO:     cache           : False\n",
      "COMET INFO:     cfg             : 1\n",
      "COMET INFO:     classes         : 1\n",
      "COMET INFO:     close_mosaic    : 10\n",
      "COMET INFO:     cls             : 0.5\n",
      "COMET INFO:     conf            : 0.001\n",
      "COMET INFO:     copy_paste      : 0.0\n",
      "COMET INFO:     cos_lr          : False\n",
      "COMET INFO:     data            : data.yaml\n",
      "COMET INFO:     degrees         : 0.0\n",
      "COMET INFO:     deterministic   : True\n",
      "COMET INFO:     device          : 1\n",
      "COMET INFO:     dfl             : 1.5\n",
      "COMET INFO:     dnn             : False\n",
      "COMET INFO:     dropout         : False\n",
      "COMET INFO:     dynamic         : False\n",
      "COMET INFO:     epochs          : 10\n",
      "COMET INFO:     exist_ok        : False\n",
      "COMET INFO:     fl_gamma        : 0.0\n",
      "COMET INFO:     fliplr          : 0.5\n",
      "COMET INFO:     flipud          : 0.0\n",
      "COMET INFO:     format          : torchscript\n",
      "COMET INFO:     half            : False\n",
      "COMET INFO:     hide_conf       : False\n",
      "COMET INFO:     hide_labels     : False\n",
      "COMET INFO:     hsv_h           : 0.015\n",
      "COMET INFO:     hsv_s           : 0.7\n",
      "COMET INFO:     hsv_v           : 0.4\n",
      "COMET INFO:     image_weights   : False\n",
      "COMET INFO:     imgsz           : 640\n",
      "COMET INFO:     int8            : False\n",
      "COMET INFO:     iou             : 0.7\n",
      "COMET INFO:     keras           : False\n",
      "COMET INFO:     label_smoothing : 0.0\n",
      "COMET INFO:     line_thickness  : 3\n",
      "COMET INFO:     lr0             : 0.01\n",
      "COMET INFO:     lrf             : 0.01\n",
      "COMET INFO:     mask_ratio      : 4\n",
      "COMET INFO:     max_det         : 300\n",
      "COMET INFO:     mixup           : 0.0\n",
      "COMET INFO:     mode            : train\n",
      "COMET INFO:     model           : yolov8n.yaml\n",
      "COMET INFO:     momentum        : 0.937\n",
      "COMET INFO:     mosaic          : 1.0\n",
      "COMET INFO:     name            : 1\n",
      "COMET INFO:     nbs             : 64\n",
      "COMET INFO:     nms             : False\n",
      "COMET INFO:     opset           : 17\n",
      "COMET INFO:     optimize        : False\n",
      "COMET INFO:     optimizer       : SGD\n",
      "COMET INFO:     overlap_mask    : True\n",
      "COMET INFO:     patience        : 50\n",
      "COMET INFO:     perspective     : 0.0\n",
      "COMET INFO:     plots           : True\n",
      "COMET INFO:     pretrained      : False\n",
      "COMET INFO:     project         : 1\n",
      "COMET INFO:     rect            : False\n",
      "COMET INFO:     resume          : False\n",
      "COMET INFO:     retina_masks    : False\n",
      "COMET INFO:     save            : True\n",
      "COMET INFO:     save_conf       : False\n",
      "COMET INFO:     save_crop       : False\n",
      "COMET INFO:     save_dir        : runs\\detect\\train5\n",
      "COMET INFO:     save_hybrid     : False\n",
      "COMET INFO:     save_json       : False\n",
      "COMET INFO:     save_txt        : False\n",
      "COMET INFO:     scale           : 0.5\n",
      "COMET INFO:     seed            : 0\n",
      "COMET INFO:     shear           : 0.0\n",
      "COMET INFO:     show            : False\n",
      "COMET INFO:     simplify        : False\n",
      "COMET INFO:     single_cls      : False\n",
      "COMET INFO:     source          : ultralytics/assets/\n",
      "COMET INFO:     task            : detect\n",
      "COMET INFO:     translate       : 0.1\n"
     ]
    },
    {
     "name": "stderr",
     "output_type": "stream",
     "text": [
      "COMET INFO:     v5loader        : False\n",
      "COMET INFO:     val             : True\n",
      "COMET INFO:     verbose         : True\n",
      "COMET INFO:     vid_stride      : 1\n",
      "COMET INFO:     visualize       : False\n",
      "COMET INFO:     warmup_bias_lr  : 0.1\n",
      "COMET INFO:     warmup_epochs   : 3.0\n",
      "COMET INFO:     warmup_momentum : 0.8\n",
      "COMET INFO:     weight_decay    : 0.001\n",
      "COMET INFO:     workers         : 0\n",
      "COMET INFO:     workspace       : 4\n",
      "COMET INFO:   Uploads:\n",
      "COMET INFO:     environment details      : 1\n",
      "COMET INFO:     filename                 : 1\n",
      "COMET INFO:     git metadata             : 1\n",
      "COMET INFO:     git-patch (uncompressed) : 1 (5.50 KB)\n",
      "COMET INFO:     installed packages       : 1\n",
      "COMET INFO:     notebook                 : 1\n",
      "COMET INFO:     source_code              : 1\n",
      "COMET INFO: ---------------------------\n",
      "COMET WARNING: Not all initial data has been logged for experiment 53a08a8192314f03aa578f194e3331db, call Experiment.end() to ensure that all data to have been logged\n",
      "COMET WARNING: As you are running in a Jupyter environment, you will need to call `experiment.end()` when finished to ensure all metrics and code are logged before exiting.\n",
      "COMET INFO: Experiment is live on comet.com https://www.comet.com/rohitpandey13/yolov8/bcb5f5a2617d40c5aefda19823a1d48a\n",
      "\n",
      "COMET INFO: ---------------------------\n",
      "COMET INFO: Comet.ml Experiment Summary\n",
      "COMET INFO: ---------------------------\n",
      "COMET INFO:   Data:\n",
      "COMET INFO:     display_summary_level : 1\n",
      "COMET INFO:     url                   : https://www.comet.com/rohitpandey13/yolov8/bcb5f5a2617d40c5aefda19823a1d48a\n",
      "COMET INFO:   Parameters:\n",
      "COMET INFO:     agnostic_nms    : False\n",
      "COMET INFO:     augment         : False\n",
      "COMET INFO:     batch           : 16\n",
      "COMET INFO:     box             : 7.5\n",
      "COMET INFO:     boxes           : True\n",
      "COMET INFO:     cache           : False\n",
      "COMET INFO:     cfg             : 1\n",
      "COMET INFO:     classes         : 1\n",
      "COMET INFO:     close_mosaic    : 10\n",
      "COMET INFO:     cls             : 0.5\n",
      "COMET INFO:     conf            : 0.001\n",
      "COMET INFO:     copy_paste      : 0.0\n",
      "COMET INFO:     cos_lr          : False\n",
      "COMET INFO:     data            : data.yaml\n",
      "COMET INFO:     degrees         : 0.0\n",
      "COMET INFO:     deterministic   : True\n",
      "COMET INFO:     device          : 1\n",
      "COMET INFO:     dfl             : 1.5\n",
      "COMET INFO:     dnn             : False\n",
      "COMET INFO:     dropout         : False\n",
      "COMET INFO:     dynamic         : False\n",
      "COMET INFO:     epochs          : 10\n",
      "COMET INFO:     exist_ok        : False\n",
      "COMET INFO:     fl_gamma        : 0.0\n",
      "COMET INFO:     fliplr          : 0.5\n",
      "COMET INFO:     flipud          : 0.0\n",
      "COMET INFO:     format          : torchscript\n",
      "COMET INFO:     half            : False\n",
      "COMET INFO:     hide_conf       : False\n",
      "COMET INFO:     hide_labels     : False\n",
      "COMET INFO:     hsv_h           : 0.015\n",
      "COMET INFO:     hsv_s           : 0.7\n",
      "COMET INFO:     hsv_v           : 0.4\n",
      "COMET INFO:     image_weights   : False\n",
      "COMET INFO:     imgsz           : 640\n",
      "COMET INFO:     int8            : False\n",
      "COMET INFO:     iou             : 0.7\n",
      "COMET INFO:     keras           : False\n",
      "COMET INFO:     label_smoothing : 0.0\n",
      "COMET INFO:     line_thickness  : 3\n",
      "COMET INFO:     lr0             : 0.01\n",
      "COMET INFO:     lrf             : 0.01\n",
      "COMET INFO:     mask_ratio      : 4\n",
      "COMET INFO:     max_det         : 300\n",
      "COMET INFO:     mixup           : 0.0\n",
      "COMET INFO:     mode            : train\n",
      "COMET INFO:     model           : yolov8n.yaml\n",
      "COMET INFO:     momentum        : 0.937\n",
      "COMET INFO:     mosaic          : 1.0\n",
      "COMET INFO:     name            : 1\n",
      "COMET INFO:     nbs             : 64\n",
      "COMET INFO:     nms             : False\n",
      "COMET INFO:     opset           : 17\n",
      "COMET INFO:     optimize        : False\n",
      "COMET INFO:     optimizer       : SGD\n",
      "COMET INFO:     overlap_mask    : True\n",
      "COMET INFO:     patience        : 50\n",
      "COMET INFO:     perspective     : 0.0\n",
      "COMET INFO:     plots           : True\n",
      "COMET INFO:     pretrained      : False\n",
      "COMET INFO:     project         : 1\n",
      "COMET INFO:     rect            : False\n",
      "COMET INFO:     resume          : False\n",
      "COMET INFO:     retina_masks    : False\n",
      "COMET INFO:     save            : True\n",
      "COMET INFO:     save_conf       : False\n",
      "COMET INFO:     save_crop       : False\n",
      "COMET INFO:     save_dir        : runs\\detect\\train5\n",
      "COMET INFO:     save_hybrid     : False\n",
      "COMET INFO:     save_json       : False\n",
      "COMET INFO:     save_txt        : False\n",
      "COMET INFO:     scale           : 0.5\n",
      "COMET INFO:     seed            : 0\n",
      "COMET INFO:     shear           : 0.0\n",
      "COMET INFO:     show            : False\n",
      "COMET INFO:     simplify        : False\n",
      "COMET INFO:     single_cls      : False\n",
      "COMET INFO:     source          : ultralytics/assets/\n",
      "COMET INFO:     task            : detect\n",
      "COMET INFO:     translate       : 0.1\n",
      "COMET INFO:     v5loader        : False\n",
      "COMET INFO:     val             : True\n",
      "COMET INFO:     verbose         : True\n",
      "COMET INFO:     vid_stride      : 1\n",
      "COMET INFO:     visualize       : False\n",
      "COMET INFO:     warmup_bias_lr  : 0.1\n",
      "COMET INFO:     warmup_epochs   : 3.0\n",
      "COMET INFO:     warmup_momentum : 0.8\n",
      "COMET INFO:     weight_decay    : 0.001\n",
      "COMET INFO:     workers         : 0\n",
      "COMET INFO:     workspace       : 4\n",
      "COMET INFO:   Uploads:\n",
      "COMET INFO:     environment details      : 1\n",
      "COMET INFO:     filename                 : 1\n",
      "COMET INFO:     git metadata             : 1\n",
      "COMET INFO:     git-patch (uncompressed) : 1 (5.50 KB)\n",
      "COMET INFO:     installed packages       : 1\n",
      "COMET INFO:     notebook                 : 1\n",
      "COMET INFO:     source_code              : 1\n",
      "COMET INFO: ---------------------------\n",
      "COMET WARNING: Not all initial data has been logged for experiment bcb5f5a2617d40c5aefda19823a1d48a, call Experiment.end() to ensure that all data to have been logged\n",
      "COMET WARNING: As you are running in a Jupyter environment, you will need to call `experiment.end()` when finished to ensure all metrics and code are logged before exiting.\n",
      "COMET INFO: Experiment is live on comet.com https://www.comet.com/rohitpandey13/yolov8/e2e8b8caffe245f39a216e0abf7b47f4\n",
      "\n",
      "COMET INFO: ---------------------------\n",
      "COMET INFO: Comet.ml Experiment Summary\n",
      "COMET INFO: ---------------------------\n",
      "COMET INFO:   Data:\n",
      "COMET INFO:     display_summary_level : 1\n",
      "COMET INFO:     url                   : https://www.comet.com/rohitpandey13/yolov8/e2e8b8caffe245f39a216e0abf7b47f4\n",
      "COMET INFO:   Parameters:\n",
      "COMET INFO:     agnostic_nms    : False\n",
      "COMET INFO:     augment         : False\n",
      "COMET INFO:     batch           : 16\n",
      "COMET INFO:     box             : 7.5\n",
      "COMET INFO:     boxes           : True\n",
      "COMET INFO:     cache           : False\n",
      "COMET INFO:     cfg             : 1\n",
      "COMET INFO:     classes         : 1\n",
      "COMET INFO:     close_mosaic    : 10\n",
      "COMET INFO:     cls             : 0.5\n",
      "COMET INFO:     conf            : 0.001\n",
      "COMET INFO:     copy_paste      : 0.0\n",
      "COMET INFO:     cos_lr          : False\n",
      "COMET INFO:     data            : data.yaml\n",
      "COMET INFO:     degrees         : 0.0\n",
      "COMET INFO:     deterministic   : True\n",
      "COMET INFO:     device          : 1\n",
      "COMET INFO:     dfl             : 1.5\n",
      "COMET INFO:     dnn             : False\n",
      "COMET INFO:     dropout         : False\n",
      "COMET INFO:     dynamic         : False\n",
      "COMET INFO:     epochs          : 10\n",
      "COMET INFO:     exist_ok        : False\n",
      "COMET INFO:     fl_gamma        : 0.0\n",
      "COMET INFO:     fliplr          : 0.5\n",
      "COMET INFO:     flipud          : 0.0\n",
      "COMET INFO:     format          : torchscript\n",
      "COMET INFO:     half            : False\n",
      "COMET INFO:     hide_conf       : False\n",
      "COMET INFO:     hide_labels     : False\n",
      "COMET INFO:     hsv_h           : 0.015\n",
      "COMET INFO:     hsv_s           : 0.7\n",
      "COMET INFO:     hsv_v           : 0.4\n",
      "COMET INFO:     image_weights   : False\n",
      "COMET INFO:     imgsz           : 640\n",
      "COMET INFO:     int8            : False\n",
      "COMET INFO:     iou             : 0.7\n",
      "COMET INFO:     keras           : False\n",
      "COMET INFO:     label_smoothing : 0.0\n",
      "COMET INFO:     line_thickness  : 3\n",
      "COMET INFO:     lr0             : 0.01\n",
      "COMET INFO:     lrf             : 0.01\n",
      "COMET INFO:     mask_ratio      : 4\n",
      "COMET INFO:     max_det         : 300\n",
      "COMET INFO:     mixup           : 0.0\n",
      "COMET INFO:     mode            : train\n",
      "COMET INFO:     model           : yolov8n.yaml\n",
      "COMET INFO:     momentum        : 0.937\n"
     ]
    },
    {
     "name": "stderr",
     "output_type": "stream",
     "text": [
      "COMET INFO:     mosaic          : 1.0\n",
      "COMET INFO:     name            : 1\n",
      "COMET INFO:     nbs             : 64\n",
      "COMET INFO:     nms             : False\n",
      "COMET INFO:     opset           : 17\n",
      "COMET INFO:     optimize        : False\n",
      "COMET INFO:     optimizer       : SGD\n",
      "COMET INFO:     overlap_mask    : True\n",
      "COMET INFO:     patience        : 50\n",
      "COMET INFO:     perspective     : 0.0\n",
      "COMET INFO:     plots           : True\n",
      "COMET INFO:     pretrained      : False\n",
      "COMET INFO:     project         : 1\n",
      "COMET INFO:     rect            : False\n",
      "COMET INFO:     resume          : False\n",
      "COMET INFO:     retina_masks    : False\n",
      "COMET INFO:     save            : True\n",
      "COMET INFO:     save_conf       : False\n",
      "COMET INFO:     save_crop       : False\n",
      "COMET INFO:     save_dir        : runs\\detect\\train5\n",
      "COMET INFO:     save_hybrid     : False\n",
      "COMET INFO:     save_json       : False\n",
      "COMET INFO:     save_txt        : False\n",
      "COMET INFO:     scale           : 0.5\n",
      "COMET INFO:     seed            : 0\n",
      "COMET INFO:     shear           : 0.0\n",
      "COMET INFO:     show            : False\n",
      "COMET INFO:     simplify        : False\n",
      "COMET INFO:     single_cls      : False\n",
      "COMET INFO:     source          : ultralytics/assets/\n",
      "COMET INFO:     task            : detect\n",
      "COMET INFO:     translate       : 0.1\n",
      "COMET INFO:     v5loader        : False\n",
      "COMET INFO:     val             : True\n",
      "COMET INFO:     verbose         : True\n",
      "COMET INFO:     vid_stride      : 1\n",
      "COMET INFO:     visualize       : False\n",
      "COMET INFO:     warmup_bias_lr  : 0.1\n",
      "COMET INFO:     warmup_epochs   : 3.0\n",
      "COMET INFO:     warmup_momentum : 0.8\n",
      "COMET INFO:     weight_decay    : 0.001\n",
      "COMET INFO:     workers         : 0\n",
      "COMET INFO:     workspace       : 4\n",
      "COMET INFO:   Uploads:\n",
      "COMET INFO:     environment details      : 1\n",
      "COMET INFO:     filename                 : 1\n",
      "COMET INFO:     git metadata             : 1\n",
      "COMET INFO:     git-patch (uncompressed) : 1 (5.50 KB)\n",
      "COMET INFO:     installed packages       : 1\n",
      "COMET INFO:     notebook                 : 1\n",
      "COMET INFO:     source_code              : 1\n",
      "COMET INFO: ---------------------------\n",
      "COMET WARNING: Not all initial data has been logged for experiment e2e8b8caffe245f39a216e0abf7b47f4, call Experiment.end() to ensure that all data to have been logged\n",
      "COMET WARNING: As you are running in a Jupyter environment, you will need to call `experiment.end()` when finished to ensure all metrics and code are logged before exiting.\n",
      "COMET INFO: Experiment is live on comet.com https://www.comet.com/rohitpandey13/yolov8/8caf75d89420486aa8b4b8da3d7bdf6a\n",
      "\n",
      "optimizer: SGD(lr=0.01) with parameter groups 57 weight(decay=0.0), 64 weight(decay=0.001), 63 bias\n",
      "train: Scanning C:\\Users\\Rohit-L490\\yolov5\\corn_image\\train\\labels...:   0%|          | 0/913 [00:00<?, ?it/s]Scanning C:\\Users\\Rohit-L490\\yolov5\\corn_image\\train\\labels... 21 images, 0 backgrounds, 0 corrupt:   2%|▏      Scanning C:\\Users\\Rohit-L490\\yolov5\\corn_image\\train\\labels... 72 images, 0 backgrounds, 0 corrupt:   8%|▊      Scanning C:\\Users\\Rohit-L490\\yolov5\\corn_image\\train\\labels... 122 images, 0 backgrounds, 0 corrupt:  13%|█▎    Scanning C:\\Users\\Rohit-L490\\yolov5\\corn_image\\train\\labels... 171 images, 0 backgrounds, 0 corrupt:  19%|█▊    Scanning C:\\Users\\Rohit-L490\\yolov5\\corn_image\\train\\labels... 226 images, 0 backgrounds, 0 corrupt:  25%|██▍   Scanning C:\\Users\\Rohit-L490\\yolov5\\corn_image\\train\\labels... 284 images, 0 backgrounds, 0 corrupt:  31%|███   Scanning C:\\Users\\Rohit-L490\\yolov5\\corn_image\\train\\labels... 335 images, 0 backgrounds, 0 corrupt:  37%|███▋  Scanning C:\\Users\\Rohit-L490\\yolov5\\corn_image\\train\\labels... 386 images, 0 backgrounds, 0 corrupt:  42%|████▏ Scanning C:\\Users\\Rohit-L490\\yolov5\\corn_image\\train\\labels... 435 images, 0 backgrounds, 0 corrupt:  48%|████▊ Scanning C:\\Users\\Rohit-L490\\yolov5\\corn_image\\train\\labels... 490 images, 0 backgrounds, 0 corrupt:  54%|█████▎Scanning C:\\Users\\Rohit-L490\\yolov5\\corn_image\\train\\labels... 540 images, 0 backgrounds, 0 corrupt:  59%|█████▉Scanning C:\\Users\\Rohit-L490\\yolov5\\corn_image\\train\\labels... 589 images, 0 backgrounds, 0 corrupt:  65%|██████Scanning C:\\Users\\Rohit-L490\\yolov5\\corn_image\\train\\labels... 638 images, 0 backgrounds, 0 corrupt:  70%|██████Scanning C:\\Users\\Rohit-L490\\yolov5\\corn_image\\train\\labels... 684 images, 0 backgrounds, 0 corrupt:  75%|██████Scanning C:\\Users\\Rohit-L490\\yolov5\\corn_image\\train\\labels... 735 images, 0 backgrounds, 0 corrupt:  81%|██████Scanning C:\\Users\\Rohit-L490\\yolov5\\corn_image\\train\\labels... 786 images, 0 backgrounds, 0 corrupt:  86%|██████Scanning C:\\Users\\Rohit-L490\\yolov5\\corn_image\\train\\labels... 850 images, 0 backgrounds, 0 corrupt:  93%|██████Scanning C:\\Users\\Rohit-L490\\yolov5\\corn_image\\train\\labels... 902 images, 0 backgrounds, 0 corrupt:  99%|██████Scanning C:\\Users\\Rohit-L490\\yolov5\\corn_image\\train\\labels... 913 images, 0 backgrounds, 0 corrupt: 100%|██████\n",
      "train: New cache created: C:\\Users\\Rohit-L490\\yolov5\\corn_image\\train\\labels.cache\n",
      "val: Scanning C:\\Users\\Rohit-L490\\yolov5\\corn_image\\valid\\labels...:   0%|          | 0/256 [00:00<?, ?it/s]Scanning C:\\Users\\Rohit-L490\\yolov5\\corn_image\\valid\\labels... 68 images, 0 backgrounds, 0 corrupt:  27%|██▋      Scanning C:\\Users\\Rohit-L490\\yolov5\\corn_image\\valid\\labels... 136 images, 0 backgrounds, 0 corrupt:  53%|█████▎  Scanning C:\\Users\\Rohit-L490\\yolov5\\corn_image\\valid\\labels... 192 images, 0 backgrounds, 0 corrupt:  75%|███████▌Scanning C:\\Users\\Rohit-L490\\yolov5\\corn_image\\valid\\labels... 245 images, 0 backgrounds, 0 corrupt:  96%|████████Scanning C:\\Users\\Rohit-L490\\yolov5\\corn_image\\valid\\labels... 256 images, 0 backgrounds, 0 corrupt: 100%|████████\n",
      "val: New cache created: C:\\Users\\Rohit-L490\\yolov5\\corn_image\\valid\\labels.cache\n",
      "WARNING  Box and segment counts should be equal, but got len(segments) = 34, len(boxes) = 8345. To resolve this only boxes will be used and all segments will be removed. To avoid this please supply either a detect or segment dataset, not a detect-segment mixed dataset.\n",
      "Image sizes 640 train, 640 val\n",
      "Using 0 dataloader workers\n",
      "Logging results to runs\\detect\\train5\n",
      "Starting training for 10 epochs...\n",
      "Closing dataloader mosaic\n",
      "\n",
      "      Epoch    GPU_mem   box_loss   cls_loss   dfl_loss  Instances       Size\n",
      "       1/10         0G      1.589      3.518      1.204        472        640:   3%|▎         | 2/58 [00:44<20:01, 21.4"
     ]
    },
    {
     "name": "stdout",
     "output_type": "stream",
     "text": [
      "ClearML Monitor: Reporting detected, reverting back to iteration based reporting\n"
     ]
    },
    {
     "name": "stderr",
     "output_type": "stream",
     "text": [
      "       1/10         0G      1.467       1.59      1.256         27        640: 100%|██████████| 58/58 [12:54<00:00, 13.\n",
      "                 Class     Images  Instances      Box(P          R      mAP50  mAP50-95):   0%|          | 0/8 [00:00<?WARNING  NMS time limit 2.100s exceeded\n",
      "                 Class     Images  Instances      Box(P          R      mAP50  mAP50-95):  12%|█▎        | 1/8 [00:14<0WARNING  NMS time limit 2.100s exceeded\n",
      "                 Class     Images  Instances      Box(P          R      mAP50  mAP50-95):  25%|██▌       | 2/8 [00:30<0WARNING  NMS time limit 2.100s exceeded\n",
      "                 Class     Images  Instances      Box(P          R      mAP50  mAP50-95):  38%|███▊      | 3/8 [00:47<0WARNING  NMS time limit 2.100s exceeded\n",
      "                 Class     Images  Instances      Box(P          R      mAP50  mAP50-95):  50%|█████     | 4/8 [01:01<0WARNING  NMS time limit 2.100s exceeded\n",
      "                 Class     Images  Instances      Box(P          R      mAP50  mAP50-95):  62%|██████▎   | 5/8 [01:15<0WARNING  NMS time limit 2.100s exceeded\n",
      "                 Class     Images  Instances      Box(P          R      mAP50  mAP50-95):  75%|███████▌  | 6/8 [01:29<0WARNING  NMS time limit 2.100s exceeded\n",
      "                 Class     Images  Instances      Box(P          R      mAP50  mAP50-95):  88%|████████▊ | 7/8 [01:43<0WARNING  NMS time limit 2.100s exceeded\n",
      "                 Class     Images  Instances      Box(P          R      mAP50  mAP50-95): 100%|██████████| 8/8 [01:59<0\n",
      "                   all        256       8345       0.95      0.373      0.427      0.253\n",
      "\n",
      "      Epoch    GPU_mem   box_loss   cls_loss   dfl_loss  Instances       Size\n",
      "       2/10         0G       1.45     0.9249      1.209         30        640: 100%|██████████| 58/58 [11:52<00:00, 12.\n",
      "                 Class     Images  Instances      Box(P          R      mAP50  mAP50-95):   0%|          | 0/8 [00:00<?WARNING  NMS time limit 2.100s exceeded\n",
      "                 Class     Images  Instances      Box(P          R      mAP50  mAP50-95):  12%|█▎        | 1/8 [00:13<0WARNING  NMS time limit 2.100s exceeded\n",
      "                 Class     Images  Instances      Box(P          R      mAP50  mAP50-95):  25%|██▌       | 2/8 [00:29<0WARNING  NMS time limit 2.100s exceeded\n",
      "                 Class     Images  Instances      Box(P          R      mAP50  mAP50-95):  38%|███▊      | 3/8 [00:45<0WARNING  NMS time limit 2.100s exceeded\n",
      "                 Class     Images  Instances      Box(P          R      mAP50  mAP50-95):  50%|█████     | 4/8 [00:57<0WARNING  NMS time limit 2.100s exceeded\n",
      "                 Class     Images  Instances      Box(P          R      mAP50  mAP50-95):  62%|██████▎   | 5/8 [01:10<0WARNING  NMS time limit 2.100s exceeded\n",
      "                 Class     Images  Instances      Box(P          R      mAP50  mAP50-95):  75%|███████▌  | 6/8 [01:23<0WARNING  NMS time limit 2.100s exceeded\n",
      "                 Class     Images  Instances      Box(P          R      mAP50  mAP50-95):  88%|████████▊ | 7/8 [01:35<0WARNING  NMS time limit 2.100s exceeded\n",
      "                 Class     Images  Instances      Box(P          R      mAP50  mAP50-95): 100%|██████████| 8/8 [01:51<0\n",
      "                   all        256       8345      0.936      0.469      0.501      0.289\n",
      "\n",
      "      Epoch    GPU_mem   box_loss   cls_loss   dfl_loss  Instances       Size\n",
      "       3/10         0G      1.412      0.821      1.197         34        640: 100%|██████████| 58/58 [12:00<00:00, 12.\n",
      "                 Class     Images  Instances      Box(P          R      mAP50  mAP50-95):   0%|          | 0/8 [00:00<?WARNING  NMS time limit 2.100s exceeded\n",
      "                 Class     Images  Instances      Box(P          R      mAP50  mAP50-95):  12%|█▎        | 1/8 [00:13<0WARNING  NMS time limit 2.100s exceeded\n",
      "                 Class     Images  Instances      Box(P          R      mAP50  mAP50-95):  25%|██▌       | 2/8 [00:30<0WARNING  NMS time limit 2.100s exceeded\n",
      "                 Class     Images  Instances      Box(P          R      mAP50  mAP50-95):  38%|███▊      | 3/8 [00:47<0WARNING  NMS time limit 2.100s exceeded\n",
      "                 Class     Images  Instances      Box(P          R      mAP50  mAP50-95):  50%|█████     | 4/8 [01:00<0WARNING  NMS time limit 2.100s exceeded\n",
      "                 Class     Images  Instances      Box(P          R      mAP50  mAP50-95):  62%|██████▎   | 5/8 [01:14<0WARNING  NMS time limit 2.100s exceeded\n",
      "                 Class     Images  Instances      Box(P          R      mAP50  mAP50-95):  75%|███████▌  | 6/8 [01:27<0WARNING  NMS time limit 2.100s exceeded\n",
      "                 Class     Images  Instances      Box(P          R      mAP50  mAP50-95):  88%|████████▊ | 7/8 [01:41<0WARNING  NMS time limit 2.100s exceeded\n",
      "                 Class     Images  Instances      Box(P          R      mAP50  mAP50-95): 100%|██████████| 8/8 [01:57<0\n",
      "                   all        256       8345      0.925      0.544      0.571      0.326\n",
      "\n",
      "      Epoch    GPU_mem   box_loss   cls_loss   dfl_loss  Instances       Size\n",
      "       4/10         0G      1.392     0.7882      1.206         16        640: 100%|██████████| 58/58 [12:04<00:00, 12.\n",
      "                 Class     Images  Instances      Box(P          R      mAP50  mAP50-95):   0%|          | 0/8 [00:00<?WARNING  NMS time limit 2.100s exceeded\n",
      "                 Class     Images  Instances      Box(P          R      mAP50  mAP50-95):  25%|██▌       | 2/8 [00:31<0WARNING  NMS time limit 2.100s exceeded\n",
      "                 Class     Images  Instances      Box(P          R      mAP50  mAP50-95):  38%|███▊      | 3/8 [00:48<0WARNING  NMS time limit 2.100s exceeded\n",
      "                 Class     Images  Instances      Box(P          R      mAP50  mAP50-95): 100%|██████████| 8/8 [02:00<0\n",
      "                   all        256       8345      0.959      0.933      0.942      0.593\n",
      "\n",
      "      Epoch    GPU_mem   box_loss   cls_loss   dfl_loss  Instances       Size\n",
      "       5/10         0G      1.395     0.7522       1.17         63        640: 100%|██████████| 58/58 [12:18<00:00, 12.\n",
      "                 Class     Images  Instances      Box(P          R      mAP50  mAP50-95):   0%|          | 0/8 [00:00<?WARNING  NMS time limit 2.100s exceeded\n",
      "                 Class     Images  Instances      Box(P          R      mAP50  mAP50-95):  12%|█▎        | 1/8 [00:13<0WARNING  NMS time limit 2.100s exceeded\n",
      "                 Class     Images  Instances      Box(P          R      mAP50  mAP50-95):  25%|██▌       | 2/8 [00:29<0WARNING  NMS time limit 2.100s exceeded\n",
      "                 Class     Images  Instances      Box(P          R      mAP50  mAP50-95):  38%|███▊      | 3/8 [00:45<0WARNING  NMS time limit 2.100s exceeded\n",
      "                 Class     Images  Instances      Box(P          R      mAP50  mAP50-95):  50%|█████     | 4/8 [00:59<0WARNING  NMS time limit 2.100s exceeded\n",
      "                 Class     Images  Instances      Box(P          R      mAP50  mAP50-95):  62%|██████▎   | 5/8 [01:12<0WARNING  NMS time limit 2.100s exceeded\n",
      "                 Class     Images  Instances      Box(P          R      mAP50  mAP50-95):  75%|███████▌  | 6/8 [01:25<0WARNING  NMS time limit 2.100s exceeded\n",
      "                 Class     Images  Instances      Box(P          R      mAP50  mAP50-95):  88%|████████▊ | 7/8 [01:39<0WARNING  NMS time limit 2.100s exceeded\n",
      "                 Class     Images  Instances      Box(P          R      mAP50  mAP50-95): 100%|██████████| 8/8 [01:55<0\n",
      "                   all        256       8345      0.952       0.83      0.842      0.533\n",
      "\n",
      "      Epoch    GPU_mem   box_loss   cls_loss   dfl_loss  Instances       Size\n",
      "       6/10         0G      1.344     0.6989      1.169         26        640: 100%|██████████| 58/58 [11:20<00:00, 11.\n",
      "                 Class     Images  Instances      Box(P          R      mAP50  mAP50-95): 100%|██████████| 8/8 [01:44<0\n",
      "                   all        256       8345      0.954      0.956      0.962      0.602\n",
      "\n",
      "      Epoch    GPU_mem   box_loss   cls_loss   dfl_loss  Instances       Size\n",
      "       7/10         0G      1.304     0.6648      1.136         29        640: 100%|██████████| 58/58 [11:20<00:00, 11.\n"
     ]
    },
    {
     "name": "stderr",
     "output_type": "stream",
     "text": [
      "                 Class     Images  Instances      Box(P          R      mAP50  mAP50-95): 100%|██████████| 8/8 [01:43<0\n",
      "                   all        256       8345      0.961       0.96      0.972      0.613\n",
      "\n",
      "      Epoch    GPU_mem   box_loss   cls_loss   dfl_loss  Instances       Size\n",
      "       8/10         0G       1.29     0.7512      1.148          1        640: 100%|██████████| 58/58 [11:48<00:00, 12.\n",
      "                 Class     Images  Instances      Box(P          R      mAP50  mAP50-95): 100%|██████████| 8/8 [01:43<0\n",
      "                   all        256       8345      0.963       0.96       0.97      0.615\n",
      "\n",
      "      Epoch    GPU_mem   box_loss   cls_loss   dfl_loss  Instances       Size\n",
      "       9/10         0G      1.272     0.6107      1.126         31        640: 100%|██████████| 58/58 [11:55<00:00, 12.\n",
      "                 Class     Images  Instances      Box(P          R      mAP50  mAP50-95): 100%|██████████| 8/8 [01:49<0\n",
      "                   all        256       8345      0.965      0.958      0.974      0.603\n",
      "\n",
      "      Epoch    GPU_mem   box_loss   cls_loss   dfl_loss  Instances       Size\n",
      "      10/10         0G      1.224     0.5871      1.112         30        640: 100%|██████████| 58/58 [11:35<00:00, 11.\n",
      "                 Class     Images  Instances      Box(P          R      mAP50  mAP50-95): 100%|██████████| 8/8 [01:43<0\n",
      "                   all        256       8345      0.967      0.963      0.974      0.621\n",
      "\n",
      "10 epochs completed in 2.302 hours.\n",
      "Optimizer stripped from runs\\detect\\train5\\weights\\last.pt, 6.2MB\n",
      "Optimizer stripped from runs\\detect\\train5\\weights\\best.pt, 6.2MB\n",
      "\n",
      "Validating runs\\detect\\train5\\weights\\best.pt...\n",
      "Ultralytics YOLOv8.0.29  Python-3.9.13 torch-1.13.1+cpu CPU\n",
      "Model summary (fused): 168 layers, 3005843 parameters, 0 gradients, 8.1 GFLOPs\n",
      "                 Class     Images  Instances      Box(P          R      mAP50  mAP50-95): 100%|██████████| 8/8 [01:06<0\n",
      "                   all        256       8345      0.967      0.963      0.974      0.621\n",
      "Speed: 2.2ms pre-process, 213.9ms inference, 0.0ms loss, 24.6ms post-process per image\n",
      "Results saved to runs\\detect\\train5\n"
     ]
    },
    {
     "name": "stdout",
     "output_type": "stream",
     "text": [
      "2023-02-06 16:36:57,976 - clearml.storage - INFO - Starting upload: runs\\detect\\train5\\weights\\best.pt => https://files.clear.ml/YOLOv8/ipykernel_launcher.0d6ebf68f08a4e12a7d6bd3ce278644c/models/best.pt\n",
      "2023-02-06 16:37:21,464 - clearml.Task - INFO - Completed model upload to https://files.clear.ml/YOLOv8/ipykernel_launcher.0d6ebf68f08a4e12a7d6bd3ce278644c/models/best.pt\n",
      "2023-02-06 16:37:21,796 - clearml.Task - INFO - Waiting for previous model to upload (2 pending, https://files.clear.ml/YOLOv8/ipykernel_launcher.0d6ebf68f08a4e12a7d6bd3ce278644c/models/best.pt)\n",
      "2023-02-06 16:37:23,226 - clearml.storage - INFO - Starting upload: runs\\detect\\train5\\weights\\best.pt => https://files.clear.ml/YOLOv8/ipykernel_launcher.0d6ebf68f08a4e12a7d6bd3ce278644c/models/best.pt\n",
      "2023-02-06 16:37:48,636 - clearml.Task - INFO - Completed model upload to https://files.clear.ml/YOLOv8/ipykernel_launcher.0d6ebf68f08a4e12a7d6bd3ce278644c/models/best.pt\n",
      "2023-02-06 16:37:50,373 - clearml.storage - INFO - Starting upload: runs\\detect\\train5\\weights\\best.pt => https://files.clear.ml/YOLOv8/ipykernel_launcher.0d6ebf68f08a4e12a7d6bd3ce278644c/models/best.pt\n",
      "2023-02-06 16:38:12,850 - clearml.Task - INFO - Waiting for previous model to upload (2 pending, https://files.clear.ml/YOLOv8/ipykernel_launcher.0d6ebf68f08a4e12a7d6bd3ce278644c/models/best.pt)\n",
      "2023-02-06 16:38:13,535 - clearml.Task - INFO - Completed model upload to https://files.clear.ml/YOLOv8/ipykernel_launcher.0d6ebf68f08a4e12a7d6bd3ce278644c/models/best.pt\n",
      "2023-02-06 16:38:15,256 - clearml.storage - INFO - Starting upload: runs\\detect\\train5\\weights\\best.pt => https://files.clear.ml/YOLOv8/ipykernel_launcher.0d6ebf68f08a4e12a7d6bd3ce278644c/models/best.pt\n",
      "2023-02-06 16:38:37,815 - clearml.Task - INFO - Completed model upload to https://files.clear.ml/YOLOv8/ipykernel_launcher.0d6ebf68f08a4e12a7d6bd3ce278644c/models/best.pt\n",
      "2023-02-06 16:38:39,538 - clearml.storage - INFO - Starting upload: runs\\detect\\train5\\weights\\best.pt => https://files.clear.ml/YOLOv8/ipykernel_launcher.0d6ebf68f08a4e12a7d6bd3ce278644c/models/best.pt\n"
     ]
    }
   ],
   "source": [
    "results = model.train(data=\"data.yaml\", epochs=10)  # train the model"
   ]
  },
  {
   "cell_type": "code",
   "execution_count": 38,
   "id": "5cae1df8",
   "metadata": {},
   "outputs": [
    {
     "name": "stderr",
     "output_type": "stream",
     "text": [
      "Ultralytics YOLOv8.0.29  Python-3.9.13 torch-1.13.1+cpu CPU\n",
      "Model summary (fused): 168 layers, 3005843 parameters, 0 gradients, 8.1 GFLOPs\n",
      "val: Scanning C:\\Users\\Rohit-L490\\yolov5\\corn_image\\valid\\labels.cache... 256 images, 0 backgrounds, 0 corrupt: 100%|██Scanning C:\\Users\\Rohit-L490\\yolov5\\corn_image\\valid\\labels.cache... 256 images, 0 backgrounds, 0 corrupt: 100%|██\n",
      "WARNING  Box and segment counts should be equal, but got len(segments) = 34, len(boxes) = 8345. To resolve this only boxes will be used and all segments will be removed. To avoid this please supply either a detect or segment dataset, not a detect-segment mixed dataset.\n",
      "                 Class     Images  Instances      Box(P          R      mAP50  mAP50-95): 100%|██████████| 16/16 [01:08\n",
      "                   all        256       8345      0.967      0.963      0.974      0.621\n",
      "Speed: 2.4ms pre-process, 218.7ms inference, 0.0ms loss, 26.4ms post-process per image\n"
     ]
    }
   ],
   "source": [
    "results = model.val()  # evaluate model performance on the validation set"
   ]
  },
  {
   "cell_type": "code",
   "execution_count": 39,
   "id": "ab6b8f87",
   "metadata": {},
   "outputs": [
    {
     "name": "stderr",
     "output_type": "stream",
     "text": [
      "Ultralytics YOLOv8.0.29  Python-3.9.13 torch-1.13.1+cpu CPU\n",
      "val: Scanning C:\\Users\\Rohit-L490\\yolov5\\corn_image\\test\\labels...:   0%|          | 0/82 [00:00<?, ?it/s]Scanning C:\\Users\\Rohit-L490\\yolov5\\corn_image\\test\\labels... 33 images, 0 backgrounds, 0 corrupt:  40%|████      Scanning C:\\Users\\Rohit-L490\\yolov5\\corn_image\\test\\labels... 65 images, 0 backgrounds, 0 corrupt:  79%|███████▉  Scanning C:\\Users\\Rohit-L490\\yolov5\\corn_image\\test\\labels... 82 images, 0 backgrounds, 0 corrupt: 100%|██████████\n",
      "val: New cache created: C:\\Users\\Rohit-L490\\yolov5\\corn_image\\test\\labels.cache\n",
      "                 Class     Images  Instances      Box(P          R      mAP50  mAP50-95): 100%|██████████| 6/6 [00:23<0\n",
      "                   all         82       2953      0.966      0.952      0.977      0.628\n",
      "Speed: 2.4ms pre-process, 219.3ms inference, 0.0ms loss, 27.3ms post-process per image\n"
     ]
    }
   ],
   "source": [
    "results = model.val(data=\"data1.yaml\") "
   ]
  },
  {
   "cell_type": "code",
   "execution_count": 40,
   "id": "2af44ea1",
   "metadata": {},
   "outputs": [
    {
     "name": "stderr",
     "output_type": "stream",
     "text": [
      "Ultralytics YOLOv8.0.29  Python-3.9.13 torch-1.13.1+cpu CPU\n",
      "\n",
      "image 1/1 C:\\Users\\Rohit-L490\\image.jpg: 320x640 19 Corns, 124.3ms\n",
      "Speed: 1.0ms pre-process, 124.3ms inference, 8.0ms postprocess per image at shape (1, 3, 640, 640)\n"
     ]
    }
   ],
   "source": [
    "results = model(\"C:/Users/Rohit-L490/image.jpg\")  # predict on an image"
   ]
  },
  {
   "cell_type": "code",
   "execution_count": 41,
   "id": "424501c4",
   "metadata": {},
   "outputs": [
    {
     "name": "stderr",
     "output_type": "stream",
     "text": [
      "Ultralytics YOLOv8.0.29  Python-3.9.13 torch-1.13.1+cpu CPU\n",
      "\n",
      "PyTorch: starting from runs\\detect\\train5\\weights\\best.pt with input shape (1, 3, 640, 640) and output shape (1, 5, 8400) (5.9 MB)\n",
      "\n",
      "ONNX: starting export with onnx 1.13.0...\n",
      "ONNX: export success  1.5s, saved as runs\\detect\\train5\\weights\\best.onnx (11.7 MB)\n",
      "\n",
      "Export complete (1.9s)\n",
      "Results saved to C:\\Users\\Rohit-L490\\yolov5\\corn_image\\runs\\detect\\train5\\weights\n",
      "Predict:         yolo task=detect mode=predict model=runs\\detect\\train5\\weights\\best.onnx -WARNING  not yet supported for YOLOv8 exported models\n",
      "Validate:        yolo task=detect mode=val model=runs\\detect\\train5\\weights\\best.onnx -WARNING  not yet supported for YOLOv8 exported models\n",
      "Visualize:       https://netron.app\n"
     ]
    }
   ],
   "source": [
    "success = model.export(format=\"onnx\")   # export the model to ONNX format"
   ]
  },
  {
   "cell_type": "code",
   "execution_count": 43,
   "id": "843638d6",
   "metadata": {},
   "outputs": [
    {
     "name": "stderr",
     "output_type": "stream",
     "text": [
      "Ultralytics YOLOv8.0.29  Python-3.9.13 torch-1.13.1+cpu CPU\n",
      "\n",
      "PyTorch: starting from runs\\detect\\train5\\weights\\best.pt with input shape (1, 3, 640, 640) and output shape (1, 5, 8400) (5.9 MB)\n",
      "\n",
      "TorchScript: starting export with torch 1.13.1+cpu...\n",
      "TorchScript: export success  2.7s, saved as runs\\detect\\train5\\weights\\best.torchscript (11.9 MB)\n",
      "\n",
      "Export complete (3.1s)\n",
      "Results saved to C:\\Users\\Rohit-L490\\yolov5\\corn_image\\runs\\detect\\train5\\weights\n",
      "Predict:         yolo task=detect mode=predict model=runs\\detect\\train5\\weights\\best.torchscript -WARNING  not yet supported for YOLOv8 exported models\n",
      "Validate:        yolo task=detect mode=val model=runs\\detect\\train5\\weights\\best.torchscript -WARNING  not yet supported for YOLOv8 exported models\n",
      "Visualize:       https://netron.app\n"
     ]
    }
   ],
   "source": [
    "success = model.export(format=\"torchscript\") "
   ]
  },
  {
   "cell_type": "code",
   "execution_count": 46,
   "id": "a7345a9d",
   "metadata": {},
   "outputs": [
    {
     "name": "stderr",
     "output_type": "stream",
     "text": [
      "Ultralytics YOLOv8.0.29  Python-3.9.13 torch-1.13.1+cpu CPU\n",
      "\n",
      "PyTorch: starting from runs\\detect\\train5\\weights\\best.pt with input shape (1, 3, 640, 640) and output shape (1, 5, 8400) (5.9 MB)\n",
      "WARNING  YOLOv8 TensorFlow export support is still under development. Please consider contributing to the effort if you have TF expertise. Thank you!\n",
      "requirements: YOLOv8 requirement \"onnxsim\" not found, attempting AutoUpdate...\n",
      "Looking in indexes: https://pypi.org/simple, https://pypi.ngc.nvidia.com\n",
      "Requirement already satisfied: onnxsim in c:\\programdata\\anaconda3\\lib\\site-packages (0.4.15)\n",
      "Requirement already satisfied: onnx in c:\\programdata\\anaconda3\\lib\\site-packages (from onnxsim) (1.13.0)\n",
      "Requirement already satisfied: rich in c:\\programdata\\anaconda3\\lib\\site-packages (from onnxsim) (13.3.1)\n",
      "Requirement already satisfied: typing-extensions>=3.6.2.1 in c:\\programdata\\anaconda3\\lib\\site-packages (from onnx->onnxsim) (4.3.0)\n",
      "Requirement already satisfied: numpy>=1.16.6 in c:\\programdata\\anaconda3\\lib\\site-packages (from onnx->onnxsim) (1.24.2)\n",
      "Requirement already satisfied: protobuf<4,>=3.20.2 in c:\\programdata\\anaconda3\\lib\\site-packages (from onnx->onnxsim) (3.20.3)\n",
      "Requirement already satisfied: markdown-it-py<3.0.0,>=2.1.0 in c:\\programdata\\anaconda3\\lib\\site-packages (from rich->onnxsim) (2.1.0)\n",
      "Requirement already satisfied: pygments<3.0.0,>=2.14.0 in c:\\programdata\\anaconda3\\lib\\site-packages (from rich->onnxsim) (2.14.0)\n",
      "Requirement already satisfied: mdurl~=0.1 in c:\\programdata\\anaconda3\\lib\\site-packages (from markdown-it-py<3.0.0,>=2.1.0->rich->onnxsim) (0.1.2)\n",
      "\n",
      "requirements: 1 package updated per ('onnx', 'onnx2tf', 'sng4onnx', 'onnxsim', 'onnx_graphsurgeon')\n",
      "requirements:  Restart runtime or rerun command for updates to take effect\n",
      "\n",
      "\n",
      "TensorFlow SavedModel: starting export with tensorflow 2.11.0...\n",
      "\n",
      "ONNX: starting export with onnx 1.13.0...\n",
      "ONNX: export success  1.1s, saved as runs\\detect\\train5\\weights\\best.onnx (11.7 MB)\n",
      "TensorFlow SavedModel: export success  61.4s, saved as runs\\detect\\train5\\weights\\best_saved_model (30.1 MB)\n",
      "\n",
      "TensorFlow GraphDef: starting export with tensorflow 2.11.0...\n",
      "TensorFlow GraphDef: export failure  0.0s: '_UserObject' object has no attribute 'inputs'\n",
      "\n",
      "Export complete (61.8s)\n",
      "Results saved to C:\\Users\\Rohit-L490\\yolov5\\corn_image\\runs\\detect\\train5\\weights\n",
      "Predict:         yolo task=detect mode=predict model=runs\\detect\\train5\\weights\\best_saved_model -WARNING  not yet supported for YOLOv8 exported models\n",
      "Validate:        yolo task=detect mode=val model=runs\\detect\\train5\\weights\\best_saved_model -WARNING  not yet supported for YOLOv8 exported models\n",
      "Visualize:       https://netron.app\n"
     ]
    }
   ],
   "source": [
    "success = model.export(format=\"pb\") "
   ]
  },
  {
   "cell_type": "code",
   "execution_count": 47,
   "id": "8de7227e",
   "metadata": {},
   "outputs": [
    {
     "name": "stderr",
     "output_type": "stream",
     "text": [
      "Ultralytics YOLOv8.0.29  Python-3.9.13 torch-1.13.1+cpu CPU\n",
      "\n",
      "PyTorch: starting from runs\\detect\\train5\\weights\\best.pt with input shape (1, 3, 640, 640) and output shape (1, 5, 8400) (5.9 MB)\n",
      "WARNING  YOLOv8 TensorFlow export support is still under development. Please consider contributing to the effort if you have TF expertise. Thank you!\n",
      "requirements: YOLOv8 requirement \"onnxsim\" not found, attempting AutoUpdate...\n",
      "Looking in indexes: https://pypi.org/simple, https://pypi.ngc.nvidia.com\n",
      "Requirement already satisfied: onnxsim in c:\\programdata\\anaconda3\\lib\\site-packages (0.4.15)\n",
      "Requirement already satisfied: onnx in c:\\programdata\\anaconda3\\lib\\site-packages (from onnxsim) (1.13.0)\n",
      "Requirement already satisfied: rich in c:\\programdata\\anaconda3\\lib\\site-packages (from onnxsim) (13.3.1)\n",
      "Requirement already satisfied: typing-extensions>=3.6.2.1 in c:\\programdata\\anaconda3\\lib\\site-packages (from onnx->onnxsim) (4.3.0)\n",
      "Requirement already satisfied: numpy>=1.16.6 in c:\\programdata\\anaconda3\\lib\\site-packages (from onnx->onnxsim) (1.24.2)\n",
      "Requirement already satisfied: protobuf<4,>=3.20.2 in c:\\programdata\\anaconda3\\lib\\site-packages (from onnx->onnxsim) (3.20.3)\n",
      "Requirement already satisfied: markdown-it-py<3.0.0,>=2.1.0 in c:\\programdata\\anaconda3\\lib\\site-packages (from rich->onnxsim) (2.1.0)\n",
      "Requirement already satisfied: pygments<3.0.0,>=2.14.0 in c:\\programdata\\anaconda3\\lib\\site-packages (from rich->onnxsim) (2.14.0)\n",
      "Requirement already satisfied: mdurl~=0.1 in c:\\programdata\\anaconda3\\lib\\site-packages (from markdown-it-py<3.0.0,>=2.1.0->rich->onnxsim) (0.1.2)\n",
      "\n",
      "requirements: 1 package updated per ('onnx', 'onnx2tf', 'sng4onnx', 'onnxsim', 'onnx_graphsurgeon')\n",
      "requirements:  Restart runtime or rerun command for updates to take effect\n",
      "\n",
      "\n",
      "TensorFlow SavedModel: starting export with tensorflow 2.11.0...\n",
      "\n",
      "ONNX: starting export with onnx 1.13.0...\n",
      "ONNX: export success  1.2s, saved as runs\\detect\\train5\\weights\\best.onnx (11.7 MB)\n",
      "TensorFlow SavedModel: export success  63.3s, saved as runs\\detect\\train5\\weights\\best_saved_model (30.1 MB)\n",
      "\n",
      "Export complete (63.7s)\n",
      "Results saved to C:\\Users\\Rohit-L490\\yolov5\\corn_image\\runs\\detect\\train5\\weights\n",
      "Predict:         yolo task=detect mode=predict model=runs\\detect\\train5\\weights\\best_saved_model -WARNING  not yet supported for YOLOv8 exported models\n",
      "Validate:        yolo task=detect mode=val model=runs\\detect\\train5\\weights\\best_saved_model -WARNING  not yet supported for YOLOv8 exported models\n",
      "Visualize:       https://netron.app\n"
     ]
    }
   ],
   "source": [
    "success = model.export(format=\"saved_model\") "
   ]
  },
  {
   "cell_type": "code",
   "execution_count": 48,
   "id": "d81c7e6f",
   "metadata": {},
   "outputs": [
    {
     "name": "stderr",
     "output_type": "stream",
     "text": [
      "Ultralytics YOLOv8.0.29  Python-3.9.13 torch-1.13.1+cpu CPU\n",
      "\n",
      "PyTorch: starting from runs\\detect\\train5\\weights\\best.pt with input shape (1, 3, 640, 640) and output shape (1, 5, 8400) (5.9 MB)\n",
      "WARNING  YOLOv8 TensorFlow export support is still under development. Please consider contributing to the effort if you have TF expertise. Thank you!\n",
      "requirements: YOLOv8 requirement \"onnxsim\" not found, attempting AutoUpdate...\n",
      "Looking in indexes: https://pypi.org/simple, https://pypi.ngc.nvidia.com\n",
      "Requirement already satisfied: onnxsim in c:\\programdata\\anaconda3\\lib\\site-packages (0.4.15)\n",
      "Requirement already satisfied: onnx in c:\\programdata\\anaconda3\\lib\\site-packages (from onnxsim) (1.13.0)\n",
      "Requirement already satisfied: rich in c:\\programdata\\anaconda3\\lib\\site-packages (from onnxsim) (13.3.1)\n",
      "Requirement already satisfied: typing-extensions>=3.6.2.1 in c:\\programdata\\anaconda3\\lib\\site-packages (from onnx->onnxsim) (4.3.0)\n",
      "Requirement already satisfied: numpy>=1.16.6 in c:\\programdata\\anaconda3\\lib\\site-packages (from onnx->onnxsim) (1.24.2)\n",
      "Requirement already satisfied: protobuf<4,>=3.20.2 in c:\\programdata\\anaconda3\\lib\\site-packages (from onnx->onnxsim) (3.20.3)\n",
      "Requirement already satisfied: markdown-it-py<3.0.0,>=2.1.0 in c:\\programdata\\anaconda3\\lib\\site-packages (from rich->onnxsim) (2.1.0)\n",
      "Requirement already satisfied: pygments<3.0.0,>=2.14.0 in c:\\programdata\\anaconda3\\lib\\site-packages (from rich->onnxsim) (2.14.0)\n",
      "Requirement already satisfied: mdurl~=0.1 in c:\\programdata\\anaconda3\\lib\\site-packages (from markdown-it-py<3.0.0,>=2.1.0->rich->onnxsim) (0.1.2)\n",
      "\n",
      "requirements: 1 package updated per ('onnx', 'onnx2tf', 'sng4onnx', 'onnxsim', 'onnx_graphsurgeon')\n",
      "requirements:  Restart runtime or rerun command for updates to take effect\n",
      "\n",
      "\n",
      "TensorFlow SavedModel: starting export with tensorflow 2.11.0...\n",
      "\n",
      "ONNX: starting export with onnx 1.13.0...\n",
      "ONNX: export success  1.3s, saved as runs\\detect\\train5\\weights\\best.onnx (11.7 MB)\n",
      "TensorFlow SavedModel: export success  59.3s, saved as runs\\detect\\train5\\weights\\best_saved_model (30.1 MB)\n",
      "\n",
      "TensorFlow Lite: starting export with tensorflow 2.11.0...\n"
     ]
    },
    {
     "name": "stdout",
     "output_type": "stream",
     "text": [
      "2023-02-06 17:18:45,119 - clearml.storage - INFO - Starting upload: C:\\Users\\ROHIT-~1\\AppData\\Local\\Temp\\model_package.q1yqkb4m.zip => https://files.clear.ml/YOLOv8/ipykernel_launcher.0d6ebf68f08a4e12a7d6bd3ce278644c/models/variables.zip\n",
      "2023-02-06 17:18:46,708 - clearml.Task - INFO - Completed model upload to https://files.clear.ml/YOLOv8/ipykernel_launcher.0d6ebf68f08a4e12a7d6bd3ce278644c/models/variables.zip\n",
      "INFO:tensorflow:Assets written to: C:\\Users\\ROHIT-~1\\AppData\\Local\\Temp\\tmpme_g8z4h\\assets\n"
     ]
    },
    {
     "name": "stderr",
     "output_type": "stream",
     "text": [
      "INFO:tensorflow:Assets written to: C:\\Users\\ROHIT-~1\\AppData\\Local\\Temp\\tmpme_g8z4h\\assets\n",
      "TensorFlow Lite: export failure  19.4s: C:\\Users\\Rohit-L490\\AppData\\Roaming\\Python\\Python39\\site-packages\\tensorflow\\python\\saved_model\\save.py:1267:0: error: 'tf.SplitV' op is neither a custom op nor a flex op\n",
      "<unknown>:0: note: loc(fused[\"PartitionedCall:\", \"PartitionedCall\"]): called from\n",
      "C:\\Users\\Rohit-L490\\AppData\\Roaming\\Python\\Python39\\site-packages\\tensorflow\\python\\saved_model\\save.py:1267:0: note: Error code: ERROR_NEEDS_FLEX_OPS\n",
      "C:\\Users\\Rohit-L490\\AppData\\Roaming\\Python\\Python39\\site-packages\\tensorflow\\python\\saved_model\\save.py:1267:0: error: 'tf.SplitV' op is neither a custom op nor a flex op\n",
      "<unknown>:0: note: loc(fused[\"PartitionedCall:\", \"PartitionedCall\"]): called from\n",
      "C:\\Users\\Rohit-L490\\AppData\\Roaming\\Python\\Python39\\site-packages\\tensorflow\\python\\saved_model\\save.py:1267:0: note: Error code: ERROR_NEEDS_FLEX_OPS\n",
      "C:\\Users\\Rohit-L490\\AppData\\Roaming\\Python\\Python39\\site-packages\\tensorflow\\python\\saved_model\\save.py:1267:0: error: 'tf.SplitV' op is neither a custom op nor a flex op\n",
      "<unknown>:0: note: loc(fused[\"PartitionedCall:\", \"PartitionedCall\"]): called from\n",
      "C:\\Users\\Rohit-L490\\AppData\\Roaming\\Python\\Python39\\site-packages\\tensorflow\\python\\saved_model\\save.py:1267:0: note: Error code: ERROR_NEEDS_FLEX_OPS\n",
      "C:\\Users\\Rohit-L490\\AppData\\Roaming\\Python\\Python39\\site-packages\\tensorflow\\python\\saved_model\\save.py:1267:0: error: 'tf.SplitV' op is neither a custom op nor a flex op\n",
      "<unknown>:0: note: loc(fused[\"PartitionedCall:\", \"PartitionedCall\"]): called from\n",
      "C:\\Users\\Rohit-L490\\AppData\\Roaming\\Python\\Python39\\site-packages\\tensorflow\\python\\saved_model\\save.py:1267:0: note: Error code: ERROR_NEEDS_FLEX_OPS\n",
      "C:\\Users\\Rohit-L490\\AppData\\Roaming\\Python\\Python39\\site-packages\\tensorflow\\python\\saved_model\\save.py:1267:0: error: 'tf.SplitV' op is neither a custom op nor a flex op\n",
      "<unknown>:0: note: loc(fused[\"PartitionedCall:\", \"PartitionedCall\"]): called from\n",
      "C:\\Users\\Rohit-L490\\AppData\\Roaming\\Python\\Python39\\site-packages\\tensorflow\\python\\saved_model\\save.py:1267:0: note: Error code: ERROR_NEEDS_FLEX_OPS\n",
      "C:\\Users\\Rohit-L490\\AppData\\Roaming\\Python\\Python39\\site-packages\\tensorflow\\python\\saved_model\\save.py:1267:0: error: 'tf.SplitV' op is neither a custom op nor a flex op\n",
      "<unknown>:0: note: loc(fused[\"PartitionedCall:\", \"PartitionedCall\"]): called from\n",
      "C:\\Users\\Rohit-L490\\AppData\\Roaming\\Python\\Python39\\site-packages\\tensorflow\\python\\saved_model\\save.py:1267:0: note: Error code: ERROR_NEEDS_FLEX_OPS\n",
      "C:\\Users\\Rohit-L490\\AppData\\Roaming\\Python\\Python39\\site-packages\\tensorflow\\python\\saved_model\\save.py:1267:0: error: 'tf.SplitV' op is neither a custom op nor a flex op\n",
      "<unknown>:0: note: loc(fused[\"PartitionedCall:\", \"PartitionedCall\"]): called from\n",
      "C:\\Users\\Rohit-L490\\AppData\\Roaming\\Python\\Python39\\site-packages\\tensorflow\\python\\saved_model\\save.py:1267:0: note: Error code: ERROR_NEEDS_FLEX_OPS\n",
      "C:\\Users\\Rohit-L490\\AppData\\Roaming\\Python\\Python39\\site-packages\\tensorflow\\python\\saved_model\\save.py:1267:0: error: 'tf.SplitV' op is neither a custom op nor a flex op\n",
      "<unknown>:0: note: loc(fused[\"PartitionedCall:\", \"PartitionedCall\"]): called from\n",
      "C:\\Users\\Rohit-L490\\AppData\\Roaming\\Python\\Python39\\site-packages\\tensorflow\\python\\saved_model\\save.py:1267:0: note: Error code: ERROR_NEEDS_FLEX_OPS\n",
      "C:\\Users\\Rohit-L490\\AppData\\Roaming\\Python\\Python39\\site-packages\\tensorflow\\python\\saved_model\\save.py:1267:0: error: 'tf.SplitV' op is neither a custom op nor a flex op\n",
      "<unknown>:0: note: loc(fused[\"PartitionedCall:\", \"PartitionedCall\"]): called from\n",
      "C:\\Users\\Rohit-L490\\AppData\\Roaming\\Python\\Python39\\site-packages\\tensorflow\\python\\saved_model\\save.py:1267:0: note: Error code: ERROR_NEEDS_FLEX_OPS\n",
      "C:\\Users\\Rohit-L490\\AppData\\Roaming\\Python\\Python39\\site-packages\\tensorflow\\python\\saved_model\\save.py:1267:0: error: 'tf.SplitV' op is neither a custom op nor a flex op\n",
      "<unknown>:0: note: loc(fused[\"PartitionedCall:\", \"PartitionedCall\"]): called from\n",
      "C:\\Users\\Rohit-L490\\AppData\\Roaming\\Python\\Python39\\site-packages\\tensorflow\\python\\saved_model\\save.py:1267:0: note: Error code: ERROR_NEEDS_FLEX_OPS\n",
      "<unknown>:0: error: failed while converting: 'main': \n",
      "Some ops are not supported by the native TFLite runtime, you can enable TF kernels fallback using TF Select. See instructions: https://www.tensorflow.org/lite/guide/ops_select \n",
      "TF Select ops: SplitV\n",
      "Details:\n",
      "\ttf.SplitV(tensor<1x160x160x32xf32>, tensor<2xi64>, tensor<i32>) -> (tensor<1x160x160x16xf32>, tensor<1x160x160x16xf32>) : {device = \"\"}\n",
      "\ttf.SplitV(tensor<1x20x20x256xf32>, tensor<2xi64>, tensor<i32>) -> (tensor<1x20x20x128xf32>, tensor<1x20x20x128xf32>) : {device = \"\"}\n",
      "\ttf.SplitV(tensor<1x40x40x128xf32>, tensor<2xi64>, tensor<i32>) -> (tensor<1x40x40x64xf32>, tensor<1x40x40x64xf32>) : {device = \"\"}\n",
      "\ttf.SplitV(tensor<1x4x8400xf32>, tensor<2xi64>, tensor<i32>) -> (tensor<1x2x8400xf32>, tensor<1x2x8400xf32>) : {device = \"\"}\n",
      "\ttf.SplitV(tensor<1x65x8400xf32>, tensor<2xi64>, tensor<i32>) -> (tensor<1x64x8400xf32>, tensor<1x1x8400xf32>) : {device = \"\"}\n",
      "\ttf.SplitV(tensor<1x80x80x64xf32>, tensor<2xi64>, tensor<i32>) -> (tensor<1x80x80x32xf32>, tensor<1x80x80x32xf32>) : {device = \"\"}\n",
      "\n",
      "\n",
      "\n",
      "Export complete (79.2s)\n",
      "Results saved to C:\\Users\\Rohit-L490\\yolov5\\corn_image\\runs\\detect\\train5\\weights\n",
      "Predict:         yolo task=detect mode=predict model=runs\\detect\\train5\\weights\\best_saved_model -WARNING  not yet supported for YOLOv8 exported models\n",
      "Validate:        yolo task=detect mode=val model=runs\\detect\\train5\\weights\\best_saved_model -WARNING  not yet supported for YOLOv8 exported models\n",
      "Visualize:       https://netron.app\n"
     ]
    }
   ],
   "source": [
    "success = model.export(format=\"tflite\") "
   ]
  },
  {
   "cell_type": "code",
   "execution_count": 2,
   "id": "6e6bb1b1",
   "metadata": {},
   "outputs": [
    {
     "ename": "NameError",
     "evalue": "name 'model' is not defined",
     "output_type": "error",
     "traceback": [
      "\u001b[1;31m---------------------------------------------------------------------------\u001b[0m",
      "\u001b[1;31mNameError\u001b[0m                                 Traceback (most recent call last)",
      "\u001b[1;32m~\\AppData\\Local\\Temp\\ipykernel_16068\\1864112017.py\u001b[0m in \u001b[0;36m<module>\u001b[1;34m\u001b[0m\n\u001b[1;32m----> 1\u001b[1;33m \u001b[0mresults\u001b[0m \u001b[1;33m=\u001b[0m \u001b[0mmodel\u001b[0m\u001b[1;33m.\u001b[0m\u001b[0mpredict\u001b[0m\u001b[1;33m(\u001b[0m\u001b[0msource\u001b[0m\u001b[1;33m=\u001b[0m\u001b[1;34mr\"C:\\Users\\Rohit-L490\\image.jpg\"\u001b[0m\u001b[1;33m,\u001b[0m\u001b[0mstream\u001b[0m\u001b[1;33m=\u001b[0m\u001b[1;32mTrue\u001b[0m\u001b[1;33m,\u001b[0m\u001b[0msave\u001b[0m\u001b[1;33m=\u001b[0m\u001b[1;32mTrue\u001b[0m\u001b[1;33m)\u001b[0m\u001b[1;33m\u001b[0m\u001b[1;33m\u001b[0m\u001b[0m\n\u001b[0m",
      "\u001b[1;31mNameError\u001b[0m: name 'model' is not defined"
     ]
    }
   ],
   "source": [
    "results = model.predict(source=r\"C:\\Users\\Rohit-L490\\image.jpg\",stream=True,save=True)"
   ]
  },
  {
   "cell_type": "code",
   "execution_count": 62,
   "id": "e9ab5a14",
   "metadata": {},
   "outputs": [],
   "source": [
    "for result in results:\n",
    "    # detection\n",
    "    result.boxes.xyxy   # box with xyxy format, (N, 4)\n",
    "    result.boxes.xywh   # box with xywh format, (N, 4)\n",
    "    result.boxes.xyxyn  # box with xyxy format but normalized, (N, 4)\n",
    "    result.boxes.xywhn  # box with xywh format but normalized, (N, 4)\n",
    "    result.boxes.conf   # confidence score, (N, 1)\n",
    "    result.boxes.cls    # cls, (N, 1)\n",
    "    # classification\n",
    "    result.probs     # cls prob, (num_class, )"
   ]
  },
  {
   "cell_type": "code",
   "execution_count": 63,
   "id": "1a3abb35",
   "metadata": {},
   "outputs": [
    {
     "name": "stdout",
     "output_type": "stream",
     "text": [
      "[Ultralytics YOLO <class 'ultralytics.yolo.engine.results.Boxes'> masks\n",
      "type: <class 'torch.Tensor'>\n",
      "shape: torch.Size([19, 6])\n",
      "dtype: torch.float32\n",
      " + tensor([[1.50000e+01, 1.30000e+01, 1.39000e+02, 1.74000e+02, 9.81546e-01, 0.00000e+00],\n",
      "        [2.10000e+01, 1.98000e+02, 1.36000e+02, 2.93000e+02, 9.39625e-01, 0.00000e+00],\n",
      "        [1.56000e+02, 2.95000e+02, 2.73000e+02, 3.78000e+02, 9.32029e-01, 0.00000e+00],\n",
      "        [3.07000e+02, 1.30000e+02, 3.97000e+02, 2.36000e+02, 9.30790e-01, 0.00000e+00],\n",
      "        [1.00000e+01, 3.08000e+02, 1.38000e+02, 3.77000e+02, 9.28263e-01, 0.00000e+00],\n",
      "        [4.04000e+02, 9.00000e+00, 5.28000e+02, 9.20000e+01, 9.23092e-01, 0.00000e+00],\n",
      "        [2.86000e+02, 2.60000e+02, 4.08000e+02, 3.72000e+02, 9.12586e-01, 0.00000e+00],\n",
      "        [5.50000e+02, 4.00000e+00, 6.58000e+02, 9.40000e+01, 9.12518e-01, 0.00000e+00],\n",
      "        [3.00000e+02, 1.00000e+01, 3.83000e+02, 1.04000e+02, 8.86093e-01, 0.00000e+00],\n",
      "        [5.50000e+02, 1.08000e+02, 6.57000e+02, 2.11000e+02, 8.83266e-01, 0.00000e+00],\n",
      "        [6.75000e+02, 1.00000e+01, 7.79000e+02, 1.05000e+02, 8.83023e-01, 0.00000e+00],\n",
      "        [4.24000e+02, 2.38000e+02, 5.26000e+02, 3.65000e+02, 8.73361e-01, 0.00000e+00],\n",
      "        [5.47000e+02, 2.38000e+02, 6.48000e+02, 3.57000e+02, 8.59811e-01, 0.00000e+00],\n",
      "        [1.60000e+02, 1.60000e+01, 2.80000e+02, 1.38000e+02, 8.43546e-01, 0.00000e+00],\n",
      "        [1.66000e+02, 1.63000e+02, 2.70000e+02, 2.75000e+02, 8.30730e-01, 0.00000e+00],\n",
      "        [4.24000e+02, 1.11000e+02, 5.23000e+02, 2.11000e+02, 8.25697e-01, 0.00000e+00],\n",
      "        [6.78000e+02, 1.19000e+02, 7.74000e+02, 2.24000e+02, 8.17605e-01, 0.00000e+00],\n",
      "        [6.78000e+02, 2.44000e+02, 7.76000e+02, 3.70000e+02, 7.92608e-01, 0.00000e+00],\n",
      "        [2.80000e+01, 4.90000e+01, 1.44000e+02, 1.72000e+02, 2.84423e-01, 0.00000e+00]])]\n"
     ]
    }
   ],
   "source": [
    "print(results)"
   ]
  },
  {
   "cell_type": "code",
   "execution_count": null,
   "id": "c5028b8c",
   "metadata": {},
   "outputs": [],
   "source": []
  },
  {
   "cell_type": "code",
   "execution_count": null,
   "id": "9a7e3538",
   "metadata": {},
   "outputs": [],
   "source": []
  },
  {
   "cell_type": "code",
   "execution_count": null,
   "id": "c9291617",
   "metadata": {},
   "outputs": [],
   "source": []
  }
 ],
 "metadata": {
  "kernelspec": {
   "display_name": "Python 3 (ipykernel)",
   "language": "python",
   "name": "python3"
  },
  "language_info": {
   "codemirror_mode": {
    "name": "ipython",
    "version": 3
   },
   "file_extension": ".py",
   "mimetype": "text/x-python",
   "name": "python",
   "nbconvert_exporter": "python",
   "pygments_lexer": "ipython3",
   "version": "3.9.13"
  }
 },
 "nbformat": 4,
 "nbformat_minor": 5
}
